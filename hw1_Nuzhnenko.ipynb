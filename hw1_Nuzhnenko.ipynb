{
  "nbformat": 4,
  "nbformat_minor": 0,
  "metadata": {
    "colab": {
      "provenance": [],
      "gpuType": "T4"
    },
    "kernelspec": {
      "name": "python3",
      "display_name": "Python 3"
    },
    "language_info": {
      "name": "python"
    }
  },
  "cells": [
    {
      "cell_type": "markdown",
      "source": [
        "# Домашняя работа №1 Александры Нужненко. Разрешение семантической многозначности (WSD)"
      ],
      "metadata": {
        "id": "PT-l56XT6taJ"
      }
    },
    {
      "cell_type": "markdown",
      "source": [
        "## 1. Неоднозначные лексемы (по [МАС](https://feb-web.ru/feb/mas/mas-abc/default.asp))"
      ],
      "metadata": {
        "id": "OCesjsuzIWhk"
      }
    },
    {
      "cell_type": "markdown",
      "source": [
        "#### **Лексема 1: квартал**\n",
        "1. Четвертая часть года (три месяца). Первый квартал. Отчет о работе за квартал.\n",
        "\n",
        "2. Часть города, ограниченная четырьмя пересекающимися улицами и площадями. Под вечер мы поехали в Медвежий Лог, где когда-то стоял единственный чум, --- а теперь раскинулись два великолепных, просторных квартала двухэтажных домов. Каверин, Два капитана. || Разг. Часть улицы между двумя перекрестками.\n",
        "\n",
        "3. Разг. устар. Отделение городской полиции в России до 1862 г. В квартале прописан он [Райский] отставным коллежским секретарем. И. Гончаров, Обрыв.\n",
        "\n",
        "4. Спец. Участок засаженной земли (леса, поля, виноградника и т. п.), обычно прямоугольный.\n",
        "\n",
        "[Нем. Qartal из лат.]\n",
        "\n",
        "#### **Лексема 2: рак**\n",
        "Рак1.\n",
        "1. Покрытое панцирем пресноводное беспозвоночное животное с клешнями у головы и брюшком, называемым обычно шейкой. Кроме своего высокого гастрономического достоинства, раки, как я уже сказал, играют очень важную роль в уженье, ибо служат самою лучшею насадкою для всех рыбных пород. С. Аксаков, Записки об уженье рыбы.\n",
        "\n",
        "Рак2.\n",
        "1. Злокачественная опухоль наружных или внутренних органов человека или животного. Рак печени.\n",
        "\n",
        "2. Болезнь растений, характеризующаяся местным наружным разрастанием тканей в виде наростов или вздутия на стеблях или корнях. Рак картофеля. Клеверный рак.\n",
        "\n",
        "#### **Лексема 3: компания**\n",
        "1. Общество, группа лиц, проводящих вместе время или чем-л. объединенных. [Шура Дубровина] была года на четыре старше остальных девушек, но всегда держалась их компании. Фадеев, Молодая гвардия. После завтрака всей компанией уехали в дом отдыха. Добровольский, Трое в серых шинелях.\n",
        "\n",
        "2. Капиталистическое (торговое или промышленное) объединение предпринимателей. Акционерная компания. Экспортная компания. || Общее обозначение участников такого объединения (на письме сокращенно К°), присоединяемое к имени официального главы фирмы. Петр Петрович Лысов --- служит в банкирской конторе Кунст и К°. Чехов, Отрава.\n",
        "\n",
        "#### **Лексема 4: акция**\n",
        "Акция1.\n",
        "1. Ценная бумага, удостоверяющая взнос определенного пая в капиталистическое предприятие и дающая право ее владельцу на участие в делах и прибылях этого предприятия. [Полозов] думал теперь только о том, чтобы поскорее устроить продажу завода, акции которого почти не давали дохода. Чернышевский, Что делать?\n",
        "\n",
        "Акция2.\n",
        "2. Книжн. Действие, предпринимаемое для достижения какой-л. цели. Дипломатическая акция.\n",
        "\n",
        "#### **Лексема 5: бумага**\n",
        "1. Материал для письма, печати, рисования и т. п., изготовляемый из тряпичной, древесной и т. п. массы. Папиросная бумага. Писчая бумага. Оберточная бумага. Чертежная бумага. □ На пожелтевшей бумаге они [буквы] казались мне живыми. Гладков, Повесть о детстве.\n",
        "\n",
        "2. Всякий письменный документ официального характера. В бумаге --- предписывалось: охотников Финогена Теченина и Матвея Строгова --- освободить. Марков, Строговы. — Вот бумага пришла — десять центнеров зерна передать «Красному пахарю». С. Антонов, Лена. || мн. ч. (бума́ги, -ма́г). Разг. Личные документы (о службе, рождении и т. п.). — Я не шучу, — продолжал он по-французски, — десять тысяч могу я вам дать, мне нужно только ваше отсутствие и ваши бумаги. Пушкин, Дубровский. По месту жизни, по бумагам — я сибиряк, а по рождению — русский, рязанец. М. Горький, Рассказ о необыкновенном.\n",
        "\n",
        "3. мн. ч. (бума́ги, -ма́г). Всякие листы с рукописным текстом. Разбирать бумаги. □ Издание г. Анненкова обогащено несколькими новыми произведениями Пушкина ---, отысканными новым издателем в бумагах поэта. Чернышевский, Сочинения Пушкина. Беридзе набросил шубу на плечи, сел и уткнулся в бумаги. Ажаев, Далеко от Москвы."
      ],
      "metadata": {
        "id": "vEDEGgivIhdb"
      }
    },
    {
      "cell_type": "markdown",
      "source": [
        "Для дальнейшего автоматического приписывания значений из толкований убраны примеры использования данных лексем (поскольку это нивелирует задачу: в примерах даются употребления слова в контексте) и пометы (\"разг.\", \"устар.\" и др.)"
      ],
      "metadata": {
        "id": "dl-YxcR6GD9G"
      }
    },
    {
      "cell_type": "code",
      "source": [
        "dct = {\n",
        "    'квартал': [\n",
        "        'Четвертая часть года (три месяца).',\n",
        "        'Часть города, ограниченная четырьмя пересекающимися улицами и площадями.'\n",
        "        'Отделение городской полиции в России до 1862 г.',\n",
        "        'Участок засаженной земли (леса, поля, виноградника и т. п.), обычно прямоугольный.'\n",
        "        ],\n",
        "    'рак': [\n",
        "        'Покрытое панцирем пресноводное беспозвоночное животное с клешнями у головы и брюшком, называемым обычно шейкой.',\n",
        "        'Злокачественная опухоль наружных или внутренних органов человека или животного.',\n",
        "        'Болезнь растений, характеризующаяся местным наружным разрастанием тканей в виде наростов или вздутия на стеблях или корнях.'\n",
        "        ],\n",
        "    'компания': [\n",
        "        'Общество, группа лиц, проводящих вместе время или чем-л. объединенных.',\n",
        "        'Капиталистическое (торговое или промышленное) объединение предпринимателей.'\n",
        "        ],\n",
        "    'акция': [\n",
        "        'Ценная бумага, удостоверяющая взнос определенного пая в капиталистическое предприятие и дающая право ее владельцу на участие в делах и прибылях этого предприятия.',\n",
        "        'Действие, предпринимаемое для достижения какой-л. цели.'\n",
        "        ],\n",
        "    'бумага': [\n",
        "        'Материал для письма, печати, рисования и т. п., изготовляемый из тряпичной, древесной и т. п. массы.',\n",
        "        'Всякий письменный документ официального характера.',\n",
        "        'Всякие листы с рукописным текстом.'\n",
        "        ]\n",
        "}"
      ],
      "metadata": {
        "id": "Hgc3gKngTfeT"
      },
      "execution_count": 48,
      "outputs": []
    },
    {
      "cell_type": "markdown",
      "source": [
        "## 2. Загрузка корпуса и извлечение предложений с неоднозначными словами"
      ],
      "metadata": {
        "id": "eSewWByb6apa"
      }
    },
    {
      "cell_type": "code",
      "execution_count": 1,
      "metadata": {
        "colab": {
          "base_uri": "https://localhost:8080/"
        },
        "id": "3I2gHC1gyL6Q",
        "outputId": "750b4c1e-14aa-499e-bc5e-1e22f62e4ff1"
      },
      "outputs": [
        {
          "output_type": "stream",
          "name": "stdout",
          "text": [
            "Collecting corus\n",
            "  Downloading corus-0.10.0-py3-none-any.whl (83 kB)\n",
            "\u001b[?25l     \u001b[90m━━━━━━━━━━━━━━━━━━━━━━━━━━━━━━━━━━━━━━━━\u001b[0m \u001b[32m0.0/83.7 kB\u001b[0m \u001b[31m?\u001b[0m eta \u001b[36m-:--:--\u001b[0m\r\u001b[2K     \u001b[91m━━━━━━━━━━━━━━━━━━━━━━━━━━━━━━━━━━━━━━━\u001b[0m\u001b[90m╺\u001b[0m \u001b[32m81.9/83.7 kB\u001b[0m \u001b[31m2.7 MB/s\u001b[0m eta \u001b[36m0:00:01\u001b[0m\r\u001b[2K     \u001b[90m━━━━━━━━━━━━━━━━━━━━━━━━━━━━━━━━━━━━━━━━\u001b[0m \u001b[32m83.7/83.7 kB\u001b[0m \u001b[31m2.1 MB/s\u001b[0m eta \u001b[36m0:00:00\u001b[0m\n",
            "\u001b[?25hInstalling collected packages: corus\n",
            "Successfully installed corus-0.10.0\n"
          ]
        }
      ],
      "source": [
        "! pip install corus"
      ]
    },
    {
      "cell_type": "code",
      "source": [
        "! pip install wget"
      ],
      "metadata": {
        "colab": {
          "base_uri": "https://localhost:8080/"
        },
        "id": "HhmhQmm3ytFV",
        "outputId": "4959f907-9afc-459b-f551-522ff19e8cf2"
      },
      "execution_count": 2,
      "outputs": [
        {
          "output_type": "stream",
          "name": "stdout",
          "text": [
            "Collecting wget\n",
            "  Downloading wget-3.2.zip (10 kB)\n",
            "  Preparing metadata (setup.py) ... \u001b[?25l\u001b[?25hdone\n",
            "Building wheels for collected packages: wget\n",
            "  Building wheel for wget (setup.py) ... \u001b[?25l\u001b[?25hdone\n",
            "  Created wheel for wget: filename=wget-3.2-py3-none-any.whl size=9655 sha256=1e253034f6f9cf90f993813b51fd6b48137521f03bcb024ab4ad43e79c34a3f5\n",
            "  Stored in directory: /root/.cache/pip/wheels/8b/f1/7f/5c94f0a7a505ca1c81cd1d9208ae2064675d97582078e6c769\n",
            "Successfully built wget\n",
            "Installing collected packages: wget\n",
            "Successfully installed wget-3.2\n"
          ]
        }
      ]
    },
    {
      "cell_type": "code",
      "source": [
        "from corus import load_lenta\n",
        "import wget\n",
        "import csv"
      ],
      "metadata": {
        "id": "gXtOEJJwyXhj"
      },
      "execution_count": 3,
      "outputs": []
    },
    {
      "cell_type": "code",
      "source": [
        "from google.colab import files"
      ],
      "metadata": {
        "id": "3523PQlTLQl_"
      },
      "execution_count": 4,
      "outputs": []
    },
    {
      "cell_type": "code",
      "source": [
        "url = 'https://github.com/yutkin/Lenta.Ru-News-Dataset/releases/download/v1.0/lenta-ru-news.csv.gz'\n",
        "dt = wget.download(url) # раскомментировать, если это первая загрузка корпуса на устройство"
      ],
      "metadata": {
        "id": "5tXbES5zyyLp"
      },
      "execution_count": null,
      "outputs": []
    },
    {
      "cell_type": "code",
      "source": [
        "# извлечение zip-файла\n",
        "import gzip\n",
        "import shutil\n",
        "with gzip.open('lenta-ru-news.csv.gz', 'rb') as f_in:\n",
        "    with open('lenta-ru-news.csv', 'wb') as f_out:\n",
        "        shutil.copyfileobj(f_in, f_out)"
      ],
      "metadata": {
        "id": "wSrqe_Fzy8-j"
      },
      "execution_count": null,
      "outputs": []
    },
    {
      "cell_type": "code",
      "source": [
        "# чтение данных\n",
        "corpus = []\n",
        "with open('lenta-ru-news.csv', encoding='utf-8', newline='') as csvfile:\n",
        "    reader = csv.reader(csvfile, delimiter=',')\n",
        "    for row in reader:\n",
        "        corpus.append(row)"
      ],
      "metadata": {
        "id": "yxUn_ZNdyrZV"
      },
      "execution_count": null,
      "outputs": []
    },
    {
      "cell_type": "code",
      "source": [
        "corpus[0]"
      ],
      "metadata": {
        "colab": {
          "base_uri": "https://localhost:8080/"
        },
        "id": "7dtF1PaTzkfa",
        "outputId": "abca5a4e-4359-4b22-d4df-c12d79e98371"
      },
      "execution_count": null,
      "outputs": [
        {
          "output_type": "execute_result",
          "data": {
            "text/plain": [
              "['url', 'title', 'text', 'topic', 'tags']"
            ]
          },
          "metadata": {},
          "execution_count": 11
        }
      ]
    },
    {
      "cell_type": "code",
      "source": [
        "corpus[1]"
      ],
      "metadata": {
        "colab": {
          "base_uri": "https://localhost:8080/"
        },
        "id": "K_9p45eizo8Y",
        "outputId": "61d7c070-5fda-43b9-ca56-32b00d6e4978"
      },
      "execution_count": null,
      "outputs": [
        {
          "output_type": "execute_result",
          "data": {
            "text/plain": [
              "['https://lenta.ru/news/2018/12/14/cancer/',\n",
              " 'Названы регионы России с\\xa0самой высокой смертностью от\\xa0рака',\n",
              " 'Вице-премьер по социальным вопросам Татьяна Голикова рассказала, в каких регионах России зафиксирована наиболее высокая смертность от рака, сообщает РИА Новости. По словам Голиковой, чаще всего онкологические заболевания становились причиной смерти в Псковской, Тверской, Тульской и Орловской областях, а также в Севастополе. Вице-премьер напомнила, что главные факторы смертности в России — рак и болезни системы кровообращения. В начале года стало известно, что смертность от онкологических заболеваний среди россиян снизилась впервые за три года. По данным Росстата, в 2017 году от рака умерли 289 тысяч человек. Это на 3,5 процента меньше, чем годом ранее.',\n",
              " 'Россия',\n",
              " 'Общество']"
            ]
          },
          "metadata": {},
          "execution_count": 12
        }
      ]
    },
    {
      "cell_type": "code",
      "source": [
        "len(corpus)"
      ],
      "metadata": {
        "colab": {
          "base_uri": "https://localhost:8080/"
        },
        "id": "NbZtbhhTzq5K",
        "outputId": "f977e5c4-c492-4b0f-a90e-905a15cfb9f2"
      },
      "execution_count": null,
      "outputs": [
        {
          "output_type": "execute_result",
          "data": {
            "text/plain": [
              "739352"
            ]
          },
          "metadata": {},
          "execution_count": 13
        }
      ]
    },
    {
      "cell_type": "code",
      "source": [
        "corpus_texts = []\n",
        "for text_info in corpus:\n",
        "    corpus_texts.append(text_info[2])"
      ],
      "metadata": {
        "id": "-k4Lrrd6ztbB"
      },
      "execution_count": null,
      "outputs": []
    },
    {
      "cell_type": "code",
      "source": [
        "corpus_texts[:3]"
      ],
      "metadata": {
        "colab": {
          "base_uri": "https://localhost:8080/"
        },
        "id": "BVJVkMNQz1oj",
        "outputId": "dfc0900f-33a0-49fc-d45f-190903149669"
      },
      "execution_count": null,
      "outputs": [
        {
          "output_type": "execute_result",
          "data": {
            "text/plain": [
              "['text',\n",
              " 'Вице-премьер по социальным вопросам Татьяна Голикова рассказала, в каких регионах России зафиксирована наиболее высокая смертность от рака, сообщает РИА Новости. По словам Голиковой, чаще всего онкологические заболевания становились причиной смерти в Псковской, Тверской, Тульской и Орловской областях, а также в Севастополе. Вице-премьер напомнила, что главные факторы смертности в России — рак и болезни системы кровообращения. В начале года стало известно, что смертность от онкологических заболеваний среди россиян снизилась впервые за три года. По данным Росстата, в 2017 году от рака умерли 289 тысяч человек. Это на 3,5 процента меньше, чем годом ранее.',\n",
              " 'Австрийские правоохранительные органы не представили доказательств нарушения российскими биатлонистами антидопинговых правил. Об этом сообщил посол России в Вене Дмитрий Любинский по итогам встречи уполномоченного адвоката дипмиссии с представителями прокуратуры страны, передает ТАСС. «Действует презумпция невиновности. Каких-либо ограничений свободы передвижения для команды нет», — добавили в посольстве. Международный союз биатлонистов (IBU) также не будет применять санкции к российским биатлонистам. Все они продолжат выступление на Кубке мира. Полиция нагрянула в отель сборной России в Хохфильцене вечером 12 декабря. Как написал биатлонист Александр Логинов, их считают виновными в махинациях с переливанием крови. Биатлонисту Антону Шипулину, также попавшему в список, полиция нанесла отдельный визит: сейчас он тренируется отдельно в австрийском Обертиллахе. Обвинения спортсмен назвал бредом, а также указал на «охоту на ведьм» в мировом биатлоне. В Австрии прием допинга — уголовное преступление. Максимальное наказание за его употребление — три года тюрьмы.']"
            ]
          },
          "metadata": {},
          "execution_count": 15
        }
      ]
    },
    {
      "cell_type": "code",
      "source": [
        "corpus_texts.remove('text')"
      ],
      "metadata": {
        "id": "P-W-aaFDz6Lu"
      },
      "execution_count": null,
      "outputs": []
    },
    {
      "cell_type": "code",
      "source": [
        "clean_corpus_texts = []\n",
        "for text in corpus_texts:\n",
        "    new_text = text.replace(\"\\n\", \"\")\n",
        "    clean_corpus_texts.append(new_text)"
      ],
      "metadata": {
        "id": "dby8TNPSz_yN"
      },
      "execution_count": null,
      "outputs": []
    },
    {
      "cell_type": "markdown",
      "source": [
        "Корпус оказался слишком большим для возможностей моего ноутбука, поэтому сначала я решила обработать его частями (ниже функция для деления на части), а потом решила в целом работать с подкорпусом размером 15000 текстов."
      ],
      "metadata": {
        "id": "fIUposyr6rGp"
      }
    },
    {
      "cell_type": "code",
      "source": [
        "def chunks(lst, n):\n",
        "    \"\"\"Yield successive n-sized chunks from lst.\"\"\"\n",
        "    for i in range(0, len(lst), n):\n",
        "        yield lst[i:i + n]"
      ],
      "metadata": {
        "id": "VRwH1dn70F3b"
      },
      "execution_count": null,
      "outputs": []
    },
    {
      "cell_type": "code",
      "source": [
        "pparts = list(chunks(clean_corpus_texts, 15000))"
      ],
      "metadata": {
        "id": "R5fv_Sf20hwr"
      },
      "execution_count": null,
      "outputs": []
    },
    {
      "cell_type": "code",
      "source": [
        "with open('part_1.txt', 'w', encoding='utf-8') as f_w:\n",
        "    for txt in pparts[0]:\n",
        "        f_w.write(txt)\n",
        "        f_w.write('\\n')"
      ],
      "metadata": {
        "id": "jpm1aq8F01-2"
      },
      "execution_count": null,
      "outputs": []
    },
    {
      "cell_type": "code",
      "source": [
        "files.download('part_1.txt')"
      ],
      "metadata": {
        "colab": {
          "base_uri": "https://localhost:8080/",
          "height": 17
        },
        "id": "MDz6rg1HLyit",
        "outputId": "bb6ec0e6-a1ed-443e-e083-2c95468c9dfd"
      },
      "execution_count": null,
      "outputs": [
        {
          "output_type": "display_data",
          "data": {
            "text/plain": [
              "<IPython.core.display.Javascript object>"
            ],
            "application/javascript": [
              "\n",
              "    async function download(id, filename, size) {\n",
              "      if (!google.colab.kernel.accessAllowed) {\n",
              "        return;\n",
              "      }\n",
              "      const div = document.createElement('div');\n",
              "      const label = document.createElement('label');\n",
              "      label.textContent = `Downloading \"${filename}\": `;\n",
              "      div.appendChild(label);\n",
              "      const progress = document.createElement('progress');\n",
              "      progress.max = size;\n",
              "      div.appendChild(progress);\n",
              "      document.body.appendChild(div);\n",
              "\n",
              "      const buffers = [];\n",
              "      let downloaded = 0;\n",
              "\n",
              "      const channel = await google.colab.kernel.comms.open(id);\n",
              "      // Send a message to notify the kernel that we're ready.\n",
              "      channel.send({})\n",
              "\n",
              "      for await (const message of channel.messages) {\n",
              "        // Send a message to notify the kernel that we're ready.\n",
              "        channel.send({})\n",
              "        if (message.buffers) {\n",
              "          for (const buffer of message.buffers) {\n",
              "            buffers.push(buffer);\n",
              "            downloaded += buffer.byteLength;\n",
              "            progress.value = downloaded;\n",
              "          }\n",
              "        }\n",
              "      }\n",
              "      const blob = new Blob(buffers, {type: 'application/binary'});\n",
              "      const a = document.createElement('a');\n",
              "      a.href = window.URL.createObjectURL(blob);\n",
              "      a.download = filename;\n",
              "      div.appendChild(a);\n",
              "      a.click();\n",
              "      div.remove();\n",
              "    }\n",
              "  "
            ]
          },
          "metadata": {}
        },
        {
          "output_type": "display_data",
          "data": {
            "text/plain": [
              "<IPython.core.display.Javascript object>"
            ],
            "application/javascript": [
              "download(\"download_307ee0df-8bed-4297-b992-cf032a86747b\", \"part_1.txt\", 35804860)"
            ]
          },
          "metadata": {}
        }
      ]
    },
    {
      "cell_type": "code",
      "source": [
        "with open('part_1.txt', 'r', encoding='utf-8') as f_r:\n",
        "    read_data = f_r.readlines() # все тексты"
      ],
      "metadata": {
        "id": "Xkdx9IL91QYN"
      },
      "execution_count": null,
      "outputs": []
    },
    {
      "cell_type": "code",
      "source": [
        "from nltk.tokenize import sent_tokenize"
      ],
      "metadata": {
        "id": "jRRI2jNp5F3e"
      },
      "execution_count": null,
      "outputs": []
    },
    {
      "cell_type": "code",
      "source": [
        "import nltk\n",
        "nltk.download('punkt')"
      ],
      "metadata": {
        "colab": {
          "base_uri": "https://localhost:8080/"
        },
        "id": "jCGk230aO9PO",
        "outputId": "c97d9dc4-3aa1-4a3f-acd2-2344580f07b2"
      },
      "execution_count": null,
      "outputs": [
        {
          "output_type": "stream",
          "name": "stderr",
          "text": [
            "[nltk_data] Downloading package punkt to /root/nltk_data...\n",
            "[nltk_data]   Unzipping tokenizers/punkt.zip.\n"
          ]
        },
        {
          "output_type": "execute_result",
          "data": {
            "text/plain": [
              "True"
            ]
          },
          "metadata": {},
          "execution_count": 7
        }
      ]
    },
    {
      "cell_type": "code",
      "source": [
        "li_sents = [] # все предложения\n",
        "for text in read_data:\n",
        "  li_sents += sent_tokenize(text)"
      ],
      "metadata": {
        "id": "vTKPUtg-WEjc"
      },
      "execution_count": null,
      "outputs": []
    },
    {
      "cell_type": "code",
      "source": [
        "import pymystem3\n",
        "mystem=pymystem3.Mystem()"
      ],
      "metadata": {
        "id": "dDxib_0D2BF6"
      },
      "execution_count": 162,
      "outputs": []
    },
    {
      "cell_type": "markdown",
      "source": [
        "Функция ниже позволяет обрабатывать тексты mystem'ом бытрее (подробнее [тут](https://habr.com/ru/articles/503420/))"
      ],
      "metadata": {
        "id": "yjOT2wp-7H5O"
      }
    },
    {
      "cell_type": "code",
      "source": [
        "def quick_mystem(texts):\n",
        "    lol = lambda lst, sz: [lst[i:i+sz] for i in range(0, len(lst), sz)]\n",
        "    txtpart = lol(texts, 10000)\n",
        "    res = []\n",
        "    c = 0\n",
        "    for txtp in txtpart:\n",
        "        print(c) # отслеживание прогресса\n",
        "        c += 1\n",
        "        alltexts = ' '.join([txt + ' br ' for txt in txtp])\n",
        "\n",
        "        words = mystem.lemmatize(alltexts)\n",
        "        doc = []\n",
        "        for txt in words:\n",
        "            if txt != '\\n' and txt.strip() != '':\n",
        "                if txt == 'br':\n",
        "                    res.append(doc)\n",
        "                    doc = []\n",
        "                else:\n",
        "                    doc.append(txt)\n",
        "    return res"
      ],
      "metadata": {
        "id": "y0fSVYyl2QaN"
      },
      "execution_count": 6,
      "outputs": []
    },
    {
      "cell_type": "code",
      "source": [
        "lemmas_1 = quick_mystem(li_sents) # лемматизированные предложения"
      ],
      "metadata": {
        "colab": {
          "base_uri": "https://localhost:8080/"
        },
        "id": "82YVTwNp3fTh",
        "outputId": "db2cc82d-eda7-4a9b-b69e-8564ccfb5ff9"
      },
      "execution_count": null,
      "outputs": [
        {
          "output_type": "stream",
          "name": "stdout",
          "text": [
            "0\n",
            "1\n",
            "2\n",
            "3\n",
            "4\n",
            "5\n",
            "6\n",
            "7\n",
            "8\n",
            "9\n",
            "10\n",
            "11\n",
            "12\n",
            "13\n",
            "14\n",
            "15\n",
            "16\n",
            "17\n"
          ]
        }
      ]
    },
    {
      "cell_type": "code",
      "source": [
        "with open('part_1_lemmas_sents.txt', 'w', encoding='utf-8') as f_w:\n",
        "  for i in lemmas_1:\n",
        "    for lemma in i:\n",
        "      f_w.write(lemma)\n",
        "      f_w.write(\" \")\n",
        "    f_w.write(\"\\n\")"
      ],
      "metadata": {
        "id": "BRgGOpB3N27l"
      },
      "execution_count": null,
      "outputs": []
    },
    {
      "cell_type": "code",
      "source": [
        "files.download('part_1_lemmas_sents.txt')"
      ],
      "metadata": {
        "colab": {
          "base_uri": "https://localhost:8080/",
          "height": 17
        },
        "id": "KYpFC8guODVx",
        "outputId": "ab6aa887-f18c-43ab-bfb8-92d5f9726621"
      },
      "execution_count": null,
      "outputs": [
        {
          "output_type": "display_data",
          "data": {
            "text/plain": [
              "<IPython.core.display.Javascript object>"
            ],
            "application/javascript": [
              "\n",
              "    async function download(id, filename, size) {\n",
              "      if (!google.colab.kernel.accessAllowed) {\n",
              "        return;\n",
              "      }\n",
              "      const div = document.createElement('div');\n",
              "      const label = document.createElement('label');\n",
              "      label.textContent = `Downloading \"${filename}\": `;\n",
              "      div.appendChild(label);\n",
              "      const progress = document.createElement('progress');\n",
              "      progress.max = size;\n",
              "      div.appendChild(progress);\n",
              "      document.body.appendChild(div);\n",
              "\n",
              "      const buffers = [];\n",
              "      let downloaded = 0;\n",
              "\n",
              "      const channel = await google.colab.kernel.comms.open(id);\n",
              "      // Send a message to notify the kernel that we're ready.\n",
              "      channel.send({})\n",
              "\n",
              "      for await (const message of channel.messages) {\n",
              "        // Send a message to notify the kernel that we're ready.\n",
              "        channel.send({})\n",
              "        if (message.buffers) {\n",
              "          for (const buffer of message.buffers) {\n",
              "            buffers.push(buffer);\n",
              "            downloaded += buffer.byteLength;\n",
              "            progress.value = downloaded;\n",
              "          }\n",
              "        }\n",
              "      }\n",
              "      const blob = new Blob(buffers, {type: 'application/binary'});\n",
              "      const a = document.createElement('a');\n",
              "      a.href = window.URL.createObjectURL(blob);\n",
              "      a.download = filename;\n",
              "      div.appendChild(a);\n",
              "      a.click();\n",
              "      div.remove();\n",
              "    }\n",
              "  "
            ]
          },
          "metadata": {}
        },
        {
          "output_type": "display_data",
          "data": {
            "text/plain": [
              "<IPython.core.display.Javascript object>"
            ],
            "application/javascript": [
              "download(\"download_b7a2c344-1707-468e-98b6-34859057617e\", \"part_1_lemmas_sents.txt\", 36477731)"
            ]
          },
          "metadata": {}
        }
      ]
    },
    {
      "cell_type": "code",
      "source": [
        "idx_target_sents = []\n",
        "lexemes = ['квартал', 'рак', 'компания', 'акция', 'бумага']\n",
        "idx = 0\n",
        "for s in lemmas_1:\n",
        "  for lemma in s:\n",
        "    if lemma in lexemes:\n",
        "      idx_target_sents.append(idx)\n",
        "  idx += 1"
      ],
      "metadata": {
        "id": "yyqRleo-PfvV"
      },
      "execution_count": null,
      "outputs": []
    },
    {
      "cell_type": "code",
      "source": [
        "unique_idx = list(set(idx_target_sents))"
      ],
      "metadata": {
        "id": "_TzJCv2mUaL-"
      },
      "execution_count": null,
      "outputs": []
    },
    {
      "cell_type": "code",
      "source": [
        "res_sents = [] # итоговый список предложений с неоднозначными лексемами\n",
        "res_sents_lem = [] # итоговый список предложений с лемматизацией\n",
        "for idx in unique_idx:\n",
        "  res_sents.append(li_sents[idx])\n",
        "  res_sents_lem.append(lemmas_1[idx])"
      ],
      "metadata": {
        "id": "OPfKeJg_ZeHm"
      },
      "execution_count": null,
      "outputs": []
    },
    {
      "cell_type": "code",
      "source": [
        "with open('res_sents_lem.txt', 'w', encoding='utf-8') as f_w:\n",
        "  for i in res_sents_lem:\n",
        "    for lemma in i:\n",
        "      f_w.write(lemma)\n",
        "      f_w.write(\" \")\n",
        "    f_w.write(\"\\n\")"
      ],
      "metadata": {
        "id": "AdyYT45CZeKV"
      },
      "execution_count": null,
      "outputs": []
    },
    {
      "cell_type": "code",
      "source": [
        "files.download('res_sents_lem.txt')"
      ],
      "metadata": {
        "colab": {
          "base_uri": "https://localhost:8080/",
          "height": 17
        },
        "id": "yLMTpiSdTYtc",
        "outputId": "2b69294c-1e70-4977-d8ce-354ba9f01fb8"
      },
      "execution_count": null,
      "outputs": [
        {
          "output_type": "display_data",
          "data": {
            "text/plain": [
              "<IPython.core.display.Javascript object>"
            ],
            "application/javascript": [
              "\n",
              "    async function download(id, filename, size) {\n",
              "      if (!google.colab.kernel.accessAllowed) {\n",
              "        return;\n",
              "      }\n",
              "      const div = document.createElement('div');\n",
              "      const label = document.createElement('label');\n",
              "      label.textContent = `Downloading \"${filename}\": `;\n",
              "      div.appendChild(label);\n",
              "      const progress = document.createElement('progress');\n",
              "      progress.max = size;\n",
              "      div.appendChild(progress);\n",
              "      document.body.appendChild(div);\n",
              "\n",
              "      const buffers = [];\n",
              "      let downloaded = 0;\n",
              "\n",
              "      const channel = await google.colab.kernel.comms.open(id);\n",
              "      // Send a message to notify the kernel that we're ready.\n",
              "      channel.send({})\n",
              "\n",
              "      for await (const message of channel.messages) {\n",
              "        // Send a message to notify the kernel that we're ready.\n",
              "        channel.send({})\n",
              "        if (message.buffers) {\n",
              "          for (const buffer of message.buffers) {\n",
              "            buffers.push(buffer);\n",
              "            downloaded += buffer.byteLength;\n",
              "            progress.value = downloaded;\n",
              "          }\n",
              "        }\n",
              "      }\n",
              "      const blob = new Blob(buffers, {type: 'application/binary'});\n",
              "      const a = document.createElement('a');\n",
              "      a.href = window.URL.createObjectURL(blob);\n",
              "      a.download = filename;\n",
              "      div.appendChild(a);\n",
              "      a.click();\n",
              "      div.remove();\n",
              "    }\n",
              "  "
            ]
          },
          "metadata": {}
        },
        {
          "output_type": "display_data",
          "data": {
            "text/plain": [
              "<IPython.core.display.Javascript object>"
            ],
            "application/javascript": [
              "download(\"download_ece11b68-e546-409d-810d-242fe1689c5e\", \"res_sents_lem.txt\", 1379913)"
            ]
          },
          "metadata": {}
        }
      ]
    },
    {
      "cell_type": "code",
      "source": [
        "with open('res_sents.txt', 'w', encoding='utf-8') as f_w:\n",
        "  for i in res_sents:\n",
        "    f_w.write(i)\n",
        "    f_w.write(\"\\n\")"
      ],
      "metadata": {
        "id": "ido4K4WSTYwE"
      },
      "execution_count": null,
      "outputs": []
    },
    {
      "cell_type": "code",
      "source": [
        "files.download('res_sents.txt')"
      ],
      "metadata": {
        "colab": {
          "base_uri": "https://localhost:8080/",
          "height": 17
        },
        "id": "HOJgWT2VPf5-",
        "outputId": "99dd4752-a677-4400-8709-7b932dbb680b"
      },
      "execution_count": null,
      "outputs": [
        {
          "output_type": "display_data",
          "data": {
            "text/plain": [
              "<IPython.core.display.Javascript object>"
            ],
            "application/javascript": [
              "\n",
              "    async function download(id, filename, size) {\n",
              "      if (!google.colab.kernel.accessAllowed) {\n",
              "        return;\n",
              "      }\n",
              "      const div = document.createElement('div');\n",
              "      const label = document.createElement('label');\n",
              "      label.textContent = `Downloading \"${filename}\": `;\n",
              "      div.appendChild(label);\n",
              "      const progress = document.createElement('progress');\n",
              "      progress.max = size;\n",
              "      div.appendChild(progress);\n",
              "      document.body.appendChild(div);\n",
              "\n",
              "      const buffers = [];\n",
              "      let downloaded = 0;\n",
              "\n",
              "      const channel = await google.colab.kernel.comms.open(id);\n",
              "      // Send a message to notify the kernel that we're ready.\n",
              "      channel.send({})\n",
              "\n",
              "      for await (const message of channel.messages) {\n",
              "        // Send a message to notify the kernel that we're ready.\n",
              "        channel.send({})\n",
              "        if (message.buffers) {\n",
              "          for (const buffer of message.buffers) {\n",
              "            buffers.push(buffer);\n",
              "            downloaded += buffer.byteLength;\n",
              "            progress.value = downloaded;\n",
              "          }\n",
              "        }\n",
              "      }\n",
              "      const blob = new Blob(buffers, {type: 'application/binary'});\n",
              "      const a = document.createElement('a');\n",
              "      a.href = window.URL.createObjectURL(blob);\n",
              "      a.download = filename;\n",
              "      div.appendChild(a);\n",
              "      a.click();\n",
              "      div.remove();\n",
              "    }\n",
              "  "
            ]
          },
          "metadata": {}
        },
        {
          "output_type": "display_data",
          "data": {
            "text/plain": [
              "<IPython.core.display.Javascript object>"
            ],
            "application/javascript": [
              "download(\"download_67e8a27c-3786-42ae-9426-2ac6d54f7581\", \"res_sents.txt\", 1363800)"
            ]
          },
          "metadata": {}
        }
      ]
    },
    {
      "cell_type": "markdown",
      "source": [
        "## 3-6. Разбивка контекстов и толкований по значениям, разметка, подсчет точности\n",
        "\n"
      ],
      "metadata": {
        "id": "AwP_AYDAcO0K"
      }
    },
    {
      "cell_type": "code",
      "source": [
        "!pip install tensorflow Cython matplotlib"
      ],
      "metadata": {
        "colab": {
          "base_uri": "https://localhost:8080/"
        },
        "id": "d1LSoc46hE-l",
        "outputId": "e92c2db0-4ab7-45bd-cf56-0008d251abe1"
      },
      "execution_count": 15,
      "outputs": [
        {
          "output_type": "stream",
          "name": "stdout",
          "text": [
            "Requirement already satisfied: tensorflow in /usr/local/lib/python3.10/dist-packages (2.14.0)\n",
            "Requirement already satisfied: Cython in /usr/local/lib/python3.10/dist-packages (3.0.6)\n",
            "Requirement already satisfied: matplotlib in /usr/local/lib/python3.10/dist-packages (3.7.1)\n",
            "Requirement already satisfied: absl-py>=1.0.0 in /usr/local/lib/python3.10/dist-packages (from tensorflow) (1.4.0)\n",
            "Requirement already satisfied: astunparse>=1.6.0 in /usr/local/lib/python3.10/dist-packages (from tensorflow) (1.6.3)\n",
            "Requirement already satisfied: flatbuffers>=23.5.26 in /usr/local/lib/python3.10/dist-packages (from tensorflow) (23.5.26)\n",
            "Requirement already satisfied: gast!=0.5.0,!=0.5.1,!=0.5.2,>=0.2.1 in /usr/local/lib/python3.10/dist-packages (from tensorflow) (0.5.4)\n",
            "Requirement already satisfied: google-pasta>=0.1.1 in /usr/local/lib/python3.10/dist-packages (from tensorflow) (0.2.0)\n",
            "Requirement already satisfied: h5py>=2.9.0 in /usr/local/lib/python3.10/dist-packages (from tensorflow) (3.9.0)\n",
            "Requirement already satisfied: libclang>=13.0.0 in /usr/local/lib/python3.10/dist-packages (from tensorflow) (16.0.6)\n",
            "Requirement already satisfied: ml-dtypes==0.2.0 in /usr/local/lib/python3.10/dist-packages (from tensorflow) (0.2.0)\n",
            "Requirement already satisfied: numpy>=1.23.5 in /usr/local/lib/python3.10/dist-packages (from tensorflow) (1.23.5)\n",
            "Requirement already satisfied: opt-einsum>=2.3.2 in /usr/local/lib/python3.10/dist-packages (from tensorflow) (3.3.0)\n",
            "Requirement already satisfied: packaging in /usr/local/lib/python3.10/dist-packages (from tensorflow) (23.2)\n",
            "Requirement already satisfied: protobuf!=4.21.0,!=4.21.1,!=4.21.2,!=4.21.3,!=4.21.4,!=4.21.5,<5.0.0dev,>=3.20.3 in /usr/local/lib/python3.10/dist-packages (from tensorflow) (3.20.3)\n",
            "Requirement already satisfied: setuptools in /usr/local/lib/python3.10/dist-packages (from tensorflow) (67.7.2)\n",
            "Requirement already satisfied: six>=1.12.0 in /usr/local/lib/python3.10/dist-packages (from tensorflow) (1.16.0)\n",
            "Requirement already satisfied: termcolor>=1.1.0 in /usr/local/lib/python3.10/dist-packages (from tensorflow) (2.3.0)\n",
            "Requirement already satisfied: typing-extensions>=3.6.6 in /usr/local/lib/python3.10/dist-packages (from tensorflow) (4.5.0)\n",
            "Requirement already satisfied: wrapt<1.15,>=1.11.0 in /usr/local/lib/python3.10/dist-packages (from tensorflow) (1.14.1)\n",
            "Requirement already satisfied: tensorflow-io-gcs-filesystem>=0.23.1 in /usr/local/lib/python3.10/dist-packages (from tensorflow) (0.34.0)\n",
            "Requirement already satisfied: grpcio<2.0,>=1.24.3 in /usr/local/lib/python3.10/dist-packages (from tensorflow) (1.59.3)\n",
            "Requirement already satisfied: tensorboard<2.15,>=2.14 in /usr/local/lib/python3.10/dist-packages (from tensorflow) (2.14.1)\n",
            "Requirement already satisfied: tensorflow-estimator<2.15,>=2.14.0 in /usr/local/lib/python3.10/dist-packages (from tensorflow) (2.14.0)\n",
            "Requirement already satisfied: keras<2.15,>=2.14.0 in /usr/local/lib/python3.10/dist-packages (from tensorflow) (2.14.0)\n",
            "Requirement already satisfied: contourpy>=1.0.1 in /usr/local/lib/python3.10/dist-packages (from matplotlib) (1.2.0)\n",
            "Requirement already satisfied: cycler>=0.10 in /usr/local/lib/python3.10/dist-packages (from matplotlib) (0.12.1)\n",
            "Requirement already satisfied: fonttools>=4.22.0 in /usr/local/lib/python3.10/dist-packages (from matplotlib) (4.45.1)\n",
            "Requirement already satisfied: kiwisolver>=1.0.1 in /usr/local/lib/python3.10/dist-packages (from matplotlib) (1.4.5)\n",
            "Requirement already satisfied: pillow>=6.2.0 in /usr/local/lib/python3.10/dist-packages (from matplotlib) (9.4.0)\n",
            "Requirement already satisfied: pyparsing>=2.3.1 in /usr/local/lib/python3.10/dist-packages (from matplotlib) (3.1.1)\n",
            "Requirement already satisfied: python-dateutil>=2.7 in /usr/local/lib/python3.10/dist-packages (from matplotlib) (2.8.2)\n",
            "Requirement already satisfied: wheel<1.0,>=0.23.0 in /usr/local/lib/python3.10/dist-packages (from astunparse>=1.6.0->tensorflow) (0.42.0)\n",
            "Requirement already satisfied: google-auth<3,>=1.6.3 in /usr/local/lib/python3.10/dist-packages (from tensorboard<2.15,>=2.14->tensorflow) (2.17.3)\n",
            "Requirement already satisfied: google-auth-oauthlib<1.1,>=0.5 in /usr/local/lib/python3.10/dist-packages (from tensorboard<2.15,>=2.14->tensorflow) (1.0.0)\n",
            "Requirement already satisfied: markdown>=2.6.8 in /usr/local/lib/python3.10/dist-packages (from tensorboard<2.15,>=2.14->tensorflow) (3.5.1)\n",
            "Requirement already satisfied: requests<3,>=2.21.0 in /usr/local/lib/python3.10/dist-packages (from tensorboard<2.15,>=2.14->tensorflow) (2.31.0)\n",
            "Requirement already satisfied: tensorboard-data-server<0.8.0,>=0.7.0 in /usr/local/lib/python3.10/dist-packages (from tensorboard<2.15,>=2.14->tensorflow) (0.7.2)\n",
            "Requirement already satisfied: werkzeug>=1.0.1 in /usr/local/lib/python3.10/dist-packages (from tensorboard<2.15,>=2.14->tensorflow) (3.0.1)\n",
            "Requirement already satisfied: cachetools<6.0,>=2.0.0 in /usr/local/lib/python3.10/dist-packages (from google-auth<3,>=1.6.3->tensorboard<2.15,>=2.14->tensorflow) (5.3.2)\n",
            "Requirement already satisfied: pyasn1-modules>=0.2.1 in /usr/local/lib/python3.10/dist-packages (from google-auth<3,>=1.6.3->tensorboard<2.15,>=2.14->tensorflow) (0.3.0)\n",
            "Requirement already satisfied: rsa<5,>=3.1.4 in /usr/local/lib/python3.10/dist-packages (from google-auth<3,>=1.6.3->tensorboard<2.15,>=2.14->tensorflow) (4.9)\n",
            "Requirement already satisfied: requests-oauthlib>=0.7.0 in /usr/local/lib/python3.10/dist-packages (from google-auth-oauthlib<1.1,>=0.5->tensorboard<2.15,>=2.14->tensorflow) (1.3.1)\n",
            "Requirement already satisfied: charset-normalizer<4,>=2 in /usr/local/lib/python3.10/dist-packages (from requests<3,>=2.21.0->tensorboard<2.15,>=2.14->tensorflow) (3.3.2)\n",
            "Requirement already satisfied: idna<4,>=2.5 in /usr/local/lib/python3.10/dist-packages (from requests<3,>=2.21.0->tensorboard<2.15,>=2.14->tensorflow) (3.6)\n",
            "Requirement already satisfied: urllib3<3,>=1.21.1 in /usr/local/lib/python3.10/dist-packages (from requests<3,>=2.21.0->tensorboard<2.15,>=2.14->tensorflow) (2.0.7)\n",
            "Requirement already satisfied: certifi>=2017.4.17 in /usr/local/lib/python3.10/dist-packages (from requests<3,>=2.21.0->tensorboard<2.15,>=2.14->tensorflow) (2023.11.17)\n",
            "Requirement already satisfied: MarkupSafe>=2.1.1 in /usr/local/lib/python3.10/dist-packages (from werkzeug>=1.0.1->tensorboard<2.15,>=2.14->tensorflow) (2.1.3)\n",
            "Requirement already satisfied: pyasn1<0.6.0,>=0.4.6 in /usr/local/lib/python3.10/dist-packages (from pyasn1-modules>=0.2.1->google-auth<3,>=1.6.3->tensorboard<2.15,>=2.14->tensorflow) (0.5.1)\n",
            "Requirement already satisfied: oauthlib>=3.0.0 in /usr/local/lib/python3.10/dist-packages (from requests-oauthlib>=0.7.0->google-auth-oauthlib<1.1,>=0.5->tensorboard<2.15,>=2.14->tensorflow) (3.2.2)\n"
          ]
        }
      ]
    },
    {
      "cell_type": "code",
      "source": [
        "!pip install simple-elmo"
      ],
      "metadata": {
        "colab": {
          "base_uri": "https://localhost:8080/"
        },
        "id": "9gXmGDROhG6K",
        "outputId": "87c47614-91e9-4136-c489-ccbcebc199d7"
      },
      "execution_count": 16,
      "outputs": [
        {
          "output_type": "stream",
          "name": "stdout",
          "text": [
            "Collecting simple-elmo\n",
            "  Downloading simple_elmo-0.9.2-py3-none-any.whl (46 kB)\n",
            "\u001b[?25l     \u001b[90m━━━━━━━━━━━━━━━━━━━━━━━━━━━━━━━━━━━━━━━━\u001b[0m \u001b[32m0.0/46.2 kB\u001b[0m \u001b[31m?\u001b[0m eta \u001b[36m-:--:--\u001b[0m\r\u001b[2K     \u001b[90m━━━━━━━━━━━━━━━━━━━━━━━━━━━━━━━━━━━━━━━━\u001b[0m \u001b[32m46.2/46.2 kB\u001b[0m \u001b[31m1.1 MB/s\u001b[0m eta \u001b[36m0:00:00\u001b[0m\n",
            "\u001b[?25hRequirement already satisfied: h5py in /usr/local/lib/python3.10/dist-packages (from simple-elmo) (3.9.0)\n",
            "Requirement already satisfied: numpy in /usr/local/lib/python3.10/dist-packages (from simple-elmo) (1.23.5)\n",
            "Requirement already satisfied: smart-open>1.8.1 in /usr/local/lib/python3.10/dist-packages (from simple-elmo) (6.4.0)\n",
            "Requirement already satisfied: pandas in /usr/local/lib/python3.10/dist-packages (from simple-elmo) (1.5.3)\n",
            "Requirement already satisfied: scipy in /usr/local/lib/python3.10/dist-packages (from simple-elmo) (1.11.4)\n",
            "Requirement already satisfied: python-dateutil>=2.8.1 in /usr/local/lib/python3.10/dist-packages (from pandas->simple-elmo) (2.8.2)\n",
            "Requirement already satisfied: pytz>=2020.1 in /usr/local/lib/python3.10/dist-packages (from pandas->simple-elmo) (2023.3.post1)\n",
            "Requirement already satisfied: six>=1.5 in /usr/local/lib/python3.10/dist-packages (from python-dateutil>=2.8.1->pandas->simple-elmo) (1.16.0)\n",
            "Installing collected packages: simple-elmo\n",
            "Successfully installed simple-elmo-0.9.2\n"
          ]
        }
      ]
    },
    {
      "cell_type": "code",
      "source": [
        "!pip install git+https://github.com/lopuhin/python-adagram.git"
      ],
      "metadata": {
        "colab": {
          "base_uri": "https://localhost:8080/"
        },
        "id": "lxNlaz-F7lf-",
        "outputId": "336bbabe-a9e9-4785-8259-bde0411003a3"
      },
      "execution_count": 17,
      "outputs": [
        {
          "output_type": "stream",
          "name": "stdout",
          "text": [
            "Collecting git+https://github.com/lopuhin/python-adagram.git\n",
            "  Cloning https://github.com/lopuhin/python-adagram.git to /tmp/pip-req-build-7j1279e5\n",
            "  Running command git clone --filter=blob:none --quiet https://github.com/lopuhin/python-adagram.git /tmp/pip-req-build-7j1279e5\n",
            "  Resolved https://github.com/lopuhin/python-adagram.git to commit cf3639f10d6a1efbcb602f45a1da89ef55ce5794\n",
            "  Preparing metadata (setup.py) ... \u001b[?25l\u001b[?25hdone\n",
            "Requirement already satisfied: cython in /usr/local/lib/python3.10/dist-packages (from adagram==0.0.1) (3.0.6)\n",
            "Requirement already satisfied: joblib in /usr/local/lib/python3.10/dist-packages (from adagram==0.0.1) (1.3.2)\n",
            "Requirement already satisfied: numpy>=1.9 in /usr/local/lib/python3.10/dist-packages (from adagram==0.0.1) (1.23.5)\n",
            "Requirement already satisfied: six in /usr/local/lib/python3.10/dist-packages (from adagram==0.0.1) (1.16.0)\n",
            "Building wheels for collected packages: adagram\n",
            "  Building wheel for adagram (setup.py) ... \u001b[?25l\u001b[?25hdone\n",
            "  Created wheel for adagram: filename=adagram-0.0.1-cp310-cp310-linux_x86_64.whl size=686334 sha256=eb74447bb17c70321c4a333fdc81f81eae282385c052293a69288f03aef05f30\n",
            "  Stored in directory: /tmp/pip-ephem-wheel-cache-wu03x0zb/wheels/88/8b/fc/291709600177e98c9bba397433476b87d894ca506e78302432\n",
            "Successfully built adagram\n",
            "Installing collected packages: adagram\n",
            "Successfully installed adagram-0.0.1\n"
          ]
        }
      ]
    },
    {
      "cell_type": "code",
      "source": [
        "!pip install pymystem3 pymorphy2"
      ],
      "metadata": {
        "colab": {
          "base_uri": "https://localhost:8080/"
        },
        "id": "baeWsVYz7li2",
        "outputId": "716d64ff-6926-4082-cb41-bea5086db1c7"
      },
      "execution_count": 18,
      "outputs": [
        {
          "output_type": "stream",
          "name": "stdout",
          "text": [
            "Requirement already satisfied: pymystem3 in /usr/local/lib/python3.10/dist-packages (0.2.0)\n",
            "Requirement already satisfied: pymorphy2 in /usr/local/lib/python3.10/dist-packages (0.9.1)\n",
            "Requirement already satisfied: requests in /usr/local/lib/python3.10/dist-packages (from pymystem3) (2.31.0)\n",
            "Requirement already satisfied: dawg-python>=0.7.1 in /usr/local/lib/python3.10/dist-packages (from pymorphy2) (0.7.2)\n",
            "Requirement already satisfied: pymorphy2-dicts-ru<3.0,>=2.4 in /usr/local/lib/python3.10/dist-packages (from pymorphy2) (2.4.417127.4579844)\n",
            "Requirement already satisfied: docopt>=0.6 in /usr/local/lib/python3.10/dist-packages (from pymorphy2) (0.6.2)\n",
            "Requirement already satisfied: charset-normalizer<4,>=2 in /usr/local/lib/python3.10/dist-packages (from requests->pymystem3) (3.3.2)\n",
            "Requirement already satisfied: idna<4,>=2.5 in /usr/local/lib/python3.10/dist-packages (from requests->pymystem3) (3.6)\n",
            "Requirement already satisfied: urllib3<3,>=1.21.1 in /usr/local/lib/python3.10/dist-packages (from requests->pymystem3) (2.0.7)\n",
            "Requirement already satisfied: certifi>=2017.4.17 in /usr/local/lib/python3.10/dist-packages (from requests->pymystem3) (2023.11.17)\n"
          ]
        }
      ]
    },
    {
      "cell_type": "code",
      "source": [
        "import nltk\n",
        "nltk.download('stopwords')"
      ],
      "metadata": {
        "colab": {
          "base_uri": "https://localhost:8080/"
        },
        "id": "cBdlSnWihWGK",
        "outputId": "02fc2718-1308-4eef-ba0b-bfdc2c292c9a"
      },
      "execution_count": 20,
      "outputs": [
        {
          "output_type": "stream",
          "name": "stderr",
          "text": [
            "[nltk_data] Downloading package stopwords to /root/nltk_data...\n",
            "[nltk_data]   Unzipping corpora/stopwords.zip.\n"
          ]
        },
        {
          "output_type": "execute_result",
          "data": {
            "text/plain": [
              "True"
            ]
          },
          "metadata": {},
          "execution_count": 20
        }
      ]
    },
    {
      "cell_type": "code",
      "source": [
        "# библиотеки для работы с эмбеддингами\n",
        "import adagram\n",
        "from simple_elmo import ElmoModel\n",
        "\n",
        "# обработка данных и ML\n",
        "import pandas as pd\n",
        "from lxml import html\n",
        "from nltk.tokenize import RegexpTokenizer\n",
        "from nltk.corpus import stopwords\n",
        "from pymorphy2 import MorphAnalyzer\n",
        "from pymystem3 import Mystem\n",
        "from tqdm.notebook import tqdm\n",
        "from sklearn.metrics import adjusted_rand_score\n",
        "from sklearn.decomposition import PCA\n",
        "from sklearn.cluster import *\n",
        "from collections import Counter\n",
        "import numpy as np\n",
        "from matplotlib import pyplot as plt\n",
        "%matplotlib inline\n",
        "import warnings\n",
        "warnings.filterwarnings('ignore')\n",
        "\n",
        "\n",
        "morph = MorphAnalyzer()\n",
        "token = RegexpTokenizer('\\w+')\n",
        "stops = set(stopwords.words('russian'))\n",
        "\n",
        "def normalize(text):\n",
        "    words = [morph.parse(word)[0].normal_form for word in tokenize(text) if word]\n",
        "    return words\n",
        "\n",
        "def tokenize(text):\n",
        "    return token.tokenize(text)"
      ],
      "metadata": {
        "id": "U4y58BFd7llu"
      },
      "execution_count": 21,
      "outputs": []
    },
    {
      "cell_type": "code",
      "source": [
        "uploaded = files.upload()\n",
        "\n",
        "for fn in uploaded.keys():\n",
        "  print('User uploaded file \"{name}\" with length {length} bytes'.format(\n",
        "      name=fn, length=len(uploaded[fn])))"
      ],
      "metadata": {
        "colab": {
          "base_uri": "https://localhost:8080/",
          "height": 90
        },
        "id": "P_QOLQfyNtPa",
        "outputId": "0d47a932-6861-45de-eecb-d284f3de3df3"
      },
      "execution_count": 22,
      "outputs": [
        {
          "output_type": "display_data",
          "data": {
            "text/plain": [
              "<IPython.core.display.HTML object>"
            ],
            "text/html": [
              "\n",
              "     <input type=\"file\" id=\"files-baa9e601-6547-4591-a9ff-e20c95f64571\" name=\"files[]\" multiple disabled\n",
              "        style=\"border:none\" />\n",
              "     <output id=\"result-baa9e601-6547-4591-a9ff-e20c95f64571\">\n",
              "      Upload widget is only available when the cell has been executed in the\n",
              "      current browser session. Please rerun this cell to enable.\n",
              "      </output>\n",
              "      <script>// Copyright 2017 Google LLC\n",
              "//\n",
              "// Licensed under the Apache License, Version 2.0 (the \"License\");\n",
              "// you may not use this file except in compliance with the License.\n",
              "// You may obtain a copy of the License at\n",
              "//\n",
              "//      http://www.apache.org/licenses/LICENSE-2.0\n",
              "//\n",
              "// Unless required by applicable law or agreed to in writing, software\n",
              "// distributed under the License is distributed on an \"AS IS\" BASIS,\n",
              "// WITHOUT WARRANTIES OR CONDITIONS OF ANY KIND, either express or implied.\n",
              "// See the License for the specific language governing permissions and\n",
              "// limitations under the License.\n",
              "\n",
              "/**\n",
              " * @fileoverview Helpers for google.colab Python module.\n",
              " */\n",
              "(function(scope) {\n",
              "function span(text, styleAttributes = {}) {\n",
              "  const element = document.createElement('span');\n",
              "  element.textContent = text;\n",
              "  for (const key of Object.keys(styleAttributes)) {\n",
              "    element.style[key] = styleAttributes[key];\n",
              "  }\n",
              "  return element;\n",
              "}\n",
              "\n",
              "// Max number of bytes which will be uploaded at a time.\n",
              "const MAX_PAYLOAD_SIZE = 100 * 1024;\n",
              "\n",
              "function _uploadFiles(inputId, outputId) {\n",
              "  const steps = uploadFilesStep(inputId, outputId);\n",
              "  const outputElement = document.getElementById(outputId);\n",
              "  // Cache steps on the outputElement to make it available for the next call\n",
              "  // to uploadFilesContinue from Python.\n",
              "  outputElement.steps = steps;\n",
              "\n",
              "  return _uploadFilesContinue(outputId);\n",
              "}\n",
              "\n",
              "// This is roughly an async generator (not supported in the browser yet),\n",
              "// where there are multiple asynchronous steps and the Python side is going\n",
              "// to poll for completion of each step.\n",
              "// This uses a Promise to block the python side on completion of each step,\n",
              "// then passes the result of the previous step as the input to the next step.\n",
              "function _uploadFilesContinue(outputId) {\n",
              "  const outputElement = document.getElementById(outputId);\n",
              "  const steps = outputElement.steps;\n",
              "\n",
              "  const next = steps.next(outputElement.lastPromiseValue);\n",
              "  return Promise.resolve(next.value.promise).then((value) => {\n",
              "    // Cache the last promise value to make it available to the next\n",
              "    // step of the generator.\n",
              "    outputElement.lastPromiseValue = value;\n",
              "    return next.value.response;\n",
              "  });\n",
              "}\n",
              "\n",
              "/**\n",
              " * Generator function which is called between each async step of the upload\n",
              " * process.\n",
              " * @param {string} inputId Element ID of the input file picker element.\n",
              " * @param {string} outputId Element ID of the output display.\n",
              " * @return {!Iterable<!Object>} Iterable of next steps.\n",
              " */\n",
              "function* uploadFilesStep(inputId, outputId) {\n",
              "  const inputElement = document.getElementById(inputId);\n",
              "  inputElement.disabled = false;\n",
              "\n",
              "  const outputElement = document.getElementById(outputId);\n",
              "  outputElement.innerHTML = '';\n",
              "\n",
              "  const pickedPromise = new Promise((resolve) => {\n",
              "    inputElement.addEventListener('change', (e) => {\n",
              "      resolve(e.target.files);\n",
              "    });\n",
              "  });\n",
              "\n",
              "  const cancel = document.createElement('button');\n",
              "  inputElement.parentElement.appendChild(cancel);\n",
              "  cancel.textContent = 'Cancel upload';\n",
              "  const cancelPromise = new Promise((resolve) => {\n",
              "    cancel.onclick = () => {\n",
              "      resolve(null);\n",
              "    };\n",
              "  });\n",
              "\n",
              "  // Wait for the user to pick the files.\n",
              "  const files = yield {\n",
              "    promise: Promise.race([pickedPromise, cancelPromise]),\n",
              "    response: {\n",
              "      action: 'starting',\n",
              "    }\n",
              "  };\n",
              "\n",
              "  cancel.remove();\n",
              "\n",
              "  // Disable the input element since further picks are not allowed.\n",
              "  inputElement.disabled = true;\n",
              "\n",
              "  if (!files) {\n",
              "    return {\n",
              "      response: {\n",
              "        action: 'complete',\n",
              "      }\n",
              "    };\n",
              "  }\n",
              "\n",
              "  for (const file of files) {\n",
              "    const li = document.createElement('li');\n",
              "    li.append(span(file.name, {fontWeight: 'bold'}));\n",
              "    li.append(span(\n",
              "        `(${file.type || 'n/a'}) - ${file.size} bytes, ` +\n",
              "        `last modified: ${\n",
              "            file.lastModifiedDate ? file.lastModifiedDate.toLocaleDateString() :\n",
              "                                    'n/a'} - `));\n",
              "    const percent = span('0% done');\n",
              "    li.appendChild(percent);\n",
              "\n",
              "    outputElement.appendChild(li);\n",
              "\n",
              "    const fileDataPromise = new Promise((resolve) => {\n",
              "      const reader = new FileReader();\n",
              "      reader.onload = (e) => {\n",
              "        resolve(e.target.result);\n",
              "      };\n",
              "      reader.readAsArrayBuffer(file);\n",
              "    });\n",
              "    // Wait for the data to be ready.\n",
              "    let fileData = yield {\n",
              "      promise: fileDataPromise,\n",
              "      response: {\n",
              "        action: 'continue',\n",
              "      }\n",
              "    };\n",
              "\n",
              "    // Use a chunked sending to avoid message size limits. See b/62115660.\n",
              "    let position = 0;\n",
              "    do {\n",
              "      const length = Math.min(fileData.byteLength - position, MAX_PAYLOAD_SIZE);\n",
              "      const chunk = new Uint8Array(fileData, position, length);\n",
              "      position += length;\n",
              "\n",
              "      const base64 = btoa(String.fromCharCode.apply(null, chunk));\n",
              "      yield {\n",
              "        response: {\n",
              "          action: 'append',\n",
              "          file: file.name,\n",
              "          data: base64,\n",
              "        },\n",
              "      };\n",
              "\n",
              "      let percentDone = fileData.byteLength === 0 ?\n",
              "          100 :\n",
              "          Math.round((position / fileData.byteLength) * 100);\n",
              "      percent.textContent = `${percentDone}% done`;\n",
              "\n",
              "    } while (position < fileData.byteLength);\n",
              "  }\n",
              "\n",
              "  // All done.\n",
              "  yield {\n",
              "    response: {\n",
              "      action: 'complete',\n",
              "    }\n",
              "  };\n",
              "}\n",
              "\n",
              "scope.google = scope.google || {};\n",
              "scope.google.colab = scope.google.colab || {};\n",
              "scope.google.colab._files = {\n",
              "  _uploadFiles,\n",
              "  _uploadFilesContinue,\n",
              "};\n",
              "})(self);\n",
              "</script> "
            ]
          },
          "metadata": {}
        },
        {
          "output_type": "stream",
          "name": "stdout",
          "text": [
            "Saving res_sents.txt to res_sents.txt\n",
            "User uploaded file \"res_sents.txt\" with length 1363800 bytes\n"
          ]
        }
      ]
    },
    {
      "cell_type": "code",
      "source": [
        "uploaded1 = files.upload()\n",
        "for fn in uploaded.keys():\n",
        "  print('User uploaded file \"{name}\" with length {length} bytes'.format(\n",
        "      name=fn, length=len(uploaded[fn])))"
      ],
      "metadata": {
        "colab": {
          "base_uri": "https://localhost:8080/",
          "height": 90
        },
        "id": "tpocPUccOY0i",
        "outputId": "12025a08-dde0-4c5a-f2c9-d05927bffd7e"
      },
      "execution_count": 23,
      "outputs": [
        {
          "output_type": "display_data",
          "data": {
            "text/plain": [
              "<IPython.core.display.HTML object>"
            ],
            "text/html": [
              "\n",
              "     <input type=\"file\" id=\"files-16aa5097-1334-4b02-9fff-d0edfe562e6b\" name=\"files[]\" multiple disabled\n",
              "        style=\"border:none\" />\n",
              "     <output id=\"result-16aa5097-1334-4b02-9fff-d0edfe562e6b\">\n",
              "      Upload widget is only available when the cell has been executed in the\n",
              "      current browser session. Please rerun this cell to enable.\n",
              "      </output>\n",
              "      <script>// Copyright 2017 Google LLC\n",
              "//\n",
              "// Licensed under the Apache License, Version 2.0 (the \"License\");\n",
              "// you may not use this file except in compliance with the License.\n",
              "// You may obtain a copy of the License at\n",
              "//\n",
              "//      http://www.apache.org/licenses/LICENSE-2.0\n",
              "//\n",
              "// Unless required by applicable law or agreed to in writing, software\n",
              "// distributed under the License is distributed on an \"AS IS\" BASIS,\n",
              "// WITHOUT WARRANTIES OR CONDITIONS OF ANY KIND, either express or implied.\n",
              "// See the License for the specific language governing permissions and\n",
              "// limitations under the License.\n",
              "\n",
              "/**\n",
              " * @fileoverview Helpers for google.colab Python module.\n",
              " */\n",
              "(function(scope) {\n",
              "function span(text, styleAttributes = {}) {\n",
              "  const element = document.createElement('span');\n",
              "  element.textContent = text;\n",
              "  for (const key of Object.keys(styleAttributes)) {\n",
              "    element.style[key] = styleAttributes[key];\n",
              "  }\n",
              "  return element;\n",
              "}\n",
              "\n",
              "// Max number of bytes which will be uploaded at a time.\n",
              "const MAX_PAYLOAD_SIZE = 100 * 1024;\n",
              "\n",
              "function _uploadFiles(inputId, outputId) {\n",
              "  const steps = uploadFilesStep(inputId, outputId);\n",
              "  const outputElement = document.getElementById(outputId);\n",
              "  // Cache steps on the outputElement to make it available for the next call\n",
              "  // to uploadFilesContinue from Python.\n",
              "  outputElement.steps = steps;\n",
              "\n",
              "  return _uploadFilesContinue(outputId);\n",
              "}\n",
              "\n",
              "// This is roughly an async generator (not supported in the browser yet),\n",
              "// where there are multiple asynchronous steps and the Python side is going\n",
              "// to poll for completion of each step.\n",
              "// This uses a Promise to block the python side on completion of each step,\n",
              "// then passes the result of the previous step as the input to the next step.\n",
              "function _uploadFilesContinue(outputId) {\n",
              "  const outputElement = document.getElementById(outputId);\n",
              "  const steps = outputElement.steps;\n",
              "\n",
              "  const next = steps.next(outputElement.lastPromiseValue);\n",
              "  return Promise.resolve(next.value.promise).then((value) => {\n",
              "    // Cache the last promise value to make it available to the next\n",
              "    // step of the generator.\n",
              "    outputElement.lastPromiseValue = value;\n",
              "    return next.value.response;\n",
              "  });\n",
              "}\n",
              "\n",
              "/**\n",
              " * Generator function which is called between each async step of the upload\n",
              " * process.\n",
              " * @param {string} inputId Element ID of the input file picker element.\n",
              " * @param {string} outputId Element ID of the output display.\n",
              " * @return {!Iterable<!Object>} Iterable of next steps.\n",
              " */\n",
              "function* uploadFilesStep(inputId, outputId) {\n",
              "  const inputElement = document.getElementById(inputId);\n",
              "  inputElement.disabled = false;\n",
              "\n",
              "  const outputElement = document.getElementById(outputId);\n",
              "  outputElement.innerHTML = '';\n",
              "\n",
              "  const pickedPromise = new Promise((resolve) => {\n",
              "    inputElement.addEventListener('change', (e) => {\n",
              "      resolve(e.target.files);\n",
              "    });\n",
              "  });\n",
              "\n",
              "  const cancel = document.createElement('button');\n",
              "  inputElement.parentElement.appendChild(cancel);\n",
              "  cancel.textContent = 'Cancel upload';\n",
              "  const cancelPromise = new Promise((resolve) => {\n",
              "    cancel.onclick = () => {\n",
              "      resolve(null);\n",
              "    };\n",
              "  });\n",
              "\n",
              "  // Wait for the user to pick the files.\n",
              "  const files = yield {\n",
              "    promise: Promise.race([pickedPromise, cancelPromise]),\n",
              "    response: {\n",
              "      action: 'starting',\n",
              "    }\n",
              "  };\n",
              "\n",
              "  cancel.remove();\n",
              "\n",
              "  // Disable the input element since further picks are not allowed.\n",
              "  inputElement.disabled = true;\n",
              "\n",
              "  if (!files) {\n",
              "    return {\n",
              "      response: {\n",
              "        action: 'complete',\n",
              "      }\n",
              "    };\n",
              "  }\n",
              "\n",
              "  for (const file of files) {\n",
              "    const li = document.createElement('li');\n",
              "    li.append(span(file.name, {fontWeight: 'bold'}));\n",
              "    li.append(span(\n",
              "        `(${file.type || 'n/a'}) - ${file.size} bytes, ` +\n",
              "        `last modified: ${\n",
              "            file.lastModifiedDate ? file.lastModifiedDate.toLocaleDateString() :\n",
              "                                    'n/a'} - `));\n",
              "    const percent = span('0% done');\n",
              "    li.appendChild(percent);\n",
              "\n",
              "    outputElement.appendChild(li);\n",
              "\n",
              "    const fileDataPromise = new Promise((resolve) => {\n",
              "      const reader = new FileReader();\n",
              "      reader.onload = (e) => {\n",
              "        resolve(e.target.result);\n",
              "      };\n",
              "      reader.readAsArrayBuffer(file);\n",
              "    });\n",
              "    // Wait for the data to be ready.\n",
              "    let fileData = yield {\n",
              "      promise: fileDataPromise,\n",
              "      response: {\n",
              "        action: 'continue',\n",
              "      }\n",
              "    };\n",
              "\n",
              "    // Use a chunked sending to avoid message size limits. See b/62115660.\n",
              "    let position = 0;\n",
              "    do {\n",
              "      const length = Math.min(fileData.byteLength - position, MAX_PAYLOAD_SIZE);\n",
              "      const chunk = new Uint8Array(fileData, position, length);\n",
              "      position += length;\n",
              "\n",
              "      const base64 = btoa(String.fromCharCode.apply(null, chunk));\n",
              "      yield {\n",
              "        response: {\n",
              "          action: 'append',\n",
              "          file: file.name,\n",
              "          data: base64,\n",
              "        },\n",
              "      };\n",
              "\n",
              "      let percentDone = fileData.byteLength === 0 ?\n",
              "          100 :\n",
              "          Math.round((position / fileData.byteLength) * 100);\n",
              "      percent.textContent = `${percentDone}% done`;\n",
              "\n",
              "    } while (position < fileData.byteLength);\n",
              "  }\n",
              "\n",
              "  // All done.\n",
              "  yield {\n",
              "    response: {\n",
              "      action: 'complete',\n",
              "    }\n",
              "  };\n",
              "}\n",
              "\n",
              "scope.google = scope.google || {};\n",
              "scope.google.colab = scope.google.colab || {};\n",
              "scope.google.colab._files = {\n",
              "  _uploadFiles,\n",
              "  _uploadFilesContinue,\n",
              "};\n",
              "})(self);\n",
              "</script> "
            ]
          },
          "metadata": {}
        },
        {
          "output_type": "stream",
          "name": "stdout",
          "text": [
            "Saving res_sents_lem.txt to res_sents_lem.txt\n",
            "User uploaded file \"res_sents.txt\" with length 1363800 bytes\n"
          ]
        }
      ]
    },
    {
      "cell_type": "code",
      "source": [
        "with open('res_sents.txt', 'r', encoding='utf-8') as f_r:\n",
        "  res_sents = f_r.readlines()"
      ],
      "metadata": {
        "id": "-YEZ7ocpPRy3"
      },
      "execution_count": 24,
      "outputs": []
    },
    {
      "cell_type": "code",
      "source": [
        "with open('res_sents_lem.txt', 'r', encoding='utf-8') as f_r:\n",
        "  res_sents_lemmas = f_r.readlines()"
      ],
      "metadata": {
        "id": "-IM1Qmq6QIOy"
      },
      "execution_count": 25,
      "outputs": []
    },
    {
      "cell_type": "code",
      "source": [
        "res_sents_lem = []\n",
        "for sent in res_sents_lemmas:\n",
        "  res_sents_lem.append(sent.split())"
      ],
      "metadata": {
        "id": "Ci6ZV2E8QQC1"
      },
      "execution_count": 26,
      "outputs": []
    },
    {
      "cell_type": "code",
      "source": [
        "lexemes = ['квартал', 'рак', 'компания', 'акция', 'бумага']"
      ],
      "metadata": {
        "id": "WZUcJZGFF0jD"
      },
      "execution_count": 161,
      "outputs": []
    },
    {
      "cell_type": "code",
      "source": [
        "# здесь я разделяю все многозначные слова, чтобы с каждой лексемой можно было работать отдельно\n",
        "kvart_sents = []\n",
        "kvart_sents_lem = []\n",
        "rak_sents = []\n",
        "rak_sents_lem = []\n",
        "comp_sents = []\n",
        "comp_sents_lem = []\n",
        "ac_sents = []\n",
        "ac_sents_lem = []\n",
        "bum_sents = []\n",
        "bum_sents_lem = []\n",
        "\n",
        "li_li_sents = [kvart_sents, rak_sents, comp_sents, ac_sents, bum_sents]\n",
        "li_li_sents_lem = [kvart_sents_lem, rak_sents_lem, comp_sents_lem, ac_sents_lem, bum_sents_lem]\n",
        "\n",
        "for i in range(5):\n",
        "  num = 0\n",
        "  for txt in res_sents_lem:\n",
        "    for lemma in txt:\n",
        "      if lemma == lexemes[i]:\n",
        "        #print(i)\n",
        "        li_li_sents[i].append(res_sents[num])\n",
        "        li_li_sents_lem[i].append(res_sents_lem[num])\n",
        "    num += 1"
      ],
      "metadata": {
        "id": "fHuN_i9zIbZv"
      },
      "execution_count": 32,
      "outputs": []
    },
    {
      "cell_type": "code",
      "source": [
        "print(f'''\n",
        "Всего контекстов с лексемой \"квартал\": {len(kvart_sents)} \\n\n",
        "Всего контекстов с лексемой \"рак\": {len(rak_sents)} \\n\n",
        "Всего контекстов с лексемой \"компания\": {len(comp_sents)} \\n\n",
        "Всего контекстов с лексемой \"акция\": {len(ac_sents)} \\n\n",
        "Всего контекстов с лексемой \"бумага\": {len(bum_sents)} \\n\n",
        "''')"
      ],
      "metadata": {
        "colab": {
          "base_uri": "https://localhost:8080/"
        },
        "id": "84frCevJHhSZ",
        "outputId": "52a276d0-d71a-497a-a264-ab077c10cf75"
      },
      "execution_count": 43,
      "outputs": [
        {
          "output_type": "stream",
          "name": "stdout",
          "text": [
            "\n",
            "Всего контекстов с лексемой \"квартал\": 275 \n",
            " \n",
            "Всего контекстов с лексемой \"рак\": 273 \n",
            "\n",
            "Всего контекстов с лексемой \"компания\": 4005 \n",
            "\n",
            "Всего контекстов с лексемой \"акция\": 705 \n",
            "\n",
            "Всего контекстов с лексемой \"бумага\": 239 \n",
            "\n",
            "\n"
          ]
        }
      ]
    },
    {
      "cell_type": "code",
      "source": [
        "# лемматизация словарных толкований\n",
        "dct_lem = {}\n",
        "for lexeme in lexemes:\n",
        "  for meaning in dct[lexeme]:\n",
        "    lem = mystem.lemmatize(meaning)\n",
        "    lem_res = []\n",
        "    for i in lem:\n",
        "      if i != \" \" and i != '\\n':\n",
        "        lem_res.append(i)\n",
        "    if lexeme not in dct_lem:\n",
        "      dct_lem[lexeme] = [lem_res]\n",
        "    else:\n",
        "      dct_lem[lexeme].append(lem_res)"
      ],
      "metadata": {
        "id": "5VKUi1vSUHbU"
      },
      "execution_count": 163,
      "outputs": []
    },
    {
      "cell_type": "markdown",
      "source": [
        "### **AdaGram**"
      ],
      "metadata": {
        "id": "E99Ihd50cbr-"
      }
    },
    {
      "cell_type": "code",
      "source": [
        "!curl \"https://s3.amazonaws.com/kostia.lopuhin/all.a010.p10.d300.w5.m100.nonorm.slim.joblib\" > all.a010.p10.d300.w5.m100.nono"
      ],
      "metadata": {
        "colab": {
          "base_uri": "https://localhost:8080/"
        },
        "id": "xtozcwwRjmTO",
        "outputId": "05b4bcfe-b6e8-4ddf-e0ab-68126dbfbb1c"
      },
      "execution_count": null,
      "outputs": [
        {
          "output_type": "stream",
          "name": "stdout",
          "text": [
            "  % Total    % Received % Xferd  Average Speed   Time    Time     Time  Current\n",
            "                                 Dload  Upload   Total   Spent    Left  Speed\n",
            "100 1394M  100 1394M    0     0  52.4M      0  0:00:26  0:00:26 --:--:-- 48.8M\n"
          ]
        }
      ]
    },
    {
      "cell_type": "code",
      "source": [
        "vm = adagram.VectorModel.load('all.a010.p10.d300.w5.m100.nonorm.slim.joblib')"
      ],
      "metadata": {
        "id": "c5Gy09bx7loU"
      },
      "execution_count": 49,
      "outputs": []
    },
    {
      "cell_type": "code",
      "source": [
        "def ada_disambiguate(word, contexts):\n",
        "  res_tags = []\n",
        "  for context in contexts:\n",
        "    cnt = []\n",
        "    for lemma in context:\n",
        "      if lemma != word:\n",
        "        cnt.append(lemma)\n",
        "    means = vm.disambiguate(word, cnt)\n",
        "    tag = np.argmax(means)\n",
        "    res_tags.append(tag)\n",
        "    cnt = []\n",
        "  return res_tags"
      ],
      "metadata": {
        "id": "f1mZP5IAUq0H"
      },
      "execution_count": 55,
      "outputs": []
    },
    {
      "cell_type": "code",
      "source": [
        "# результат дизамбигуации адаграм\n",
        "ada_kvart = ada_disambiguate(lexemes[0], li_li_sents_lem[0])\n",
        "ada_rak = ada_disambiguate(lexemes[1], li_li_sents_lem[1])\n",
        "ada_comp = ada_disambiguate(lexemes[2], li_li_sents_lem[2])\n",
        "ada_ac = ada_disambiguate(lexemes[3], li_li_sents_lem[3])\n",
        "ada_bum = ada_disambiguate(lexemes[4], li_li_sents_lem[4])"
      ],
      "metadata": {
        "id": "nmj9hS63X3O9"
      },
      "execution_count": 57,
      "outputs": []
    },
    {
      "cell_type": "code",
      "source": [
        "# результат дизамбигуации адаграм для толкований\n",
        "ada_kvart_vocab = ada_disambiguate(lexemes[0], dct_lem[lexemes[0]])\n",
        "ada_rak_vocab = ada_disambiguate(lexemes[1], dct_lem[lexemes[1]])\n",
        "ada_comp_vocab = ada_disambiguate(lexemes[2], dct_lem[lexemes[2]])\n",
        "ada_ac_vocab = ada_disambiguate(lexemes[3], dct_lem[lexemes[3]])\n",
        "ada_bum_vocab = ada_disambiguate(lexemes[4], dct_lem[lexemes[4]])"
      ],
      "metadata": {
        "id": "GaybEPGSX3SG"
      },
      "execution_count": 73,
      "outputs": []
    },
    {
      "cell_type": "code",
      "source": [
        "import csv"
      ],
      "metadata": {
        "id": "dRwTkKrrUq5c"
      },
      "execution_count": 79,
      "outputs": []
    },
    {
      "cell_type": "code",
      "source": [
        "all_words = ['квартал'] * len(ada_kvart) + ['рак'] * len(ada_rak) + ['компания'] * len(ada_comp) + ['акция'] * len(ada_ac) + ['бумага'] * len(ada_bum)\n",
        "all_contexts = kvart_sents + rak_sents + comp_sents + ac_sents + bum_sents\n",
        "ada_all = ada_kvart + ada_rak + ada_comp + ada_ac + ada_bum"
      ],
      "metadata": {
        "id": "3TygAnrfhex2"
      },
      "execution_count": 118,
      "outputs": []
    },
    {
      "cell_type": "code",
      "source": [
        "with open('ada_res.csv', 'w', encoding='utf-8') as csvfile:\n",
        "  csvwriter = csv.writer(csvfile)\n",
        "  csvwriter.writerow([\"word\", \"context\", \"tag adagram\"])\n",
        "  for i in range(len(res_sents)):\n",
        "    csvwriter.writerow([all_words[i], all_contexts[i], ada_all[i]])"
      ],
      "metadata": {
        "id": "ewizwjAYhe0Z"
      },
      "execution_count": 93,
      "outputs": []
    },
    {
      "cell_type": "code",
      "source": [
        "files.download('ada_res.csv')"
      ],
      "metadata": {
        "colab": {
          "base_uri": "https://localhost:8080/",
          "height": 34
        },
        "id": "qJLikJcvjhM9",
        "outputId": "6ab5f515-afc5-408c-9708-189dc3e33f9e"
      },
      "execution_count": 94,
      "outputs": [
        {
          "output_type": "display_data",
          "data": {
            "text/plain": [
              "<IPython.core.display.Javascript object>"
            ],
            "application/javascript": [
              "\n",
              "    async function download(id, filename, size) {\n",
              "      if (!google.colab.kernel.accessAllowed) {\n",
              "        return;\n",
              "      }\n",
              "      const div = document.createElement('div');\n",
              "      const label = document.createElement('label');\n",
              "      label.textContent = `Downloading \"${filename}\": `;\n",
              "      div.appendChild(label);\n",
              "      const progress = document.createElement('progress');\n",
              "      progress.max = size;\n",
              "      div.appendChild(progress);\n",
              "      document.body.appendChild(div);\n",
              "\n",
              "      const buffers = [];\n",
              "      let downloaded = 0;\n",
              "\n",
              "      const channel = await google.colab.kernel.comms.open(id);\n",
              "      // Send a message to notify the kernel that we're ready.\n",
              "      channel.send({})\n",
              "\n",
              "      for await (const message of channel.messages) {\n",
              "        // Send a message to notify the kernel that we're ready.\n",
              "        channel.send({})\n",
              "        if (message.buffers) {\n",
              "          for (const buffer of message.buffers) {\n",
              "            buffers.push(buffer);\n",
              "            downloaded += buffer.byteLength;\n",
              "            progress.value = downloaded;\n",
              "          }\n",
              "        }\n",
              "      }\n",
              "      const blob = new Blob(buffers, {type: 'application/binary'});\n",
              "      const a = document.createElement('a');\n",
              "      a.href = window.URL.createObjectURL(blob);\n",
              "      a.download = filename;\n",
              "      div.appendChild(a);\n",
              "      a.click();\n",
              "      div.remove();\n",
              "    }\n",
              "  "
            ]
          },
          "metadata": {}
        },
        {
          "output_type": "display_data",
          "data": {
            "text/plain": [
              "<IPython.core.display.Javascript object>"
            ],
            "application/javascript": [
              "download(\"download_cde0112b-66c3-47ba-b288-9aa3966066dc\", \"ada_res.csv\", 1514506)"
            ]
          },
          "metadata": {}
        }
      ]
    },
    {
      "cell_type": "code",
      "source": [
        "import pandas as pd"
      ],
      "metadata": {
        "id": "7m6pIuaajhPl"
      },
      "execution_count": 91,
      "outputs": []
    },
    {
      "cell_type": "code",
      "source": [
        "pd_ada_res = pd.read_csv('ada_res.csv')"
      ],
      "metadata": {
        "id": "DYpjKUTljhSf"
      },
      "execution_count": 110,
      "outputs": []
    },
    {
      "cell_type": "code",
      "source": [
        "pd_ada_res"
      ],
      "metadata": {
        "colab": {
          "base_uri": "https://localhost:8080/",
          "height": 802
        },
        "id": "M4zhUkEX7cC_",
        "outputId": "a648f51b-cbc1-4f19-8d77-93f3b189877a"
      },
      "execution_count": 111,
      "outputs": [
        {
          "output_type": "execute_result",
          "data": {
            "text/plain": [
              "         word                                            context  tag adagram\n",
              "0     квартал  Выдачи потребительских кредитов в России в тре...            0\n",
              "1     квартал  До этого пик объема потребительского кредитова...            0\n",
              "2     квартал  В третьем квартале 2018 года средний чек в дан...            0\n",
              "3     квартал  В результате обстрела боевиками жилых квартало...            3\n",
              "4     квартал  По его словам, боевики обстреляли кварталы, ра...            3\n",
              "...       ...                                                ...          ...\n",
              "5145    акция  70 процентов респондентов хоть раз в жизни отк...            0\n",
              "5146    акция  Специалисты проверили 11 мобильных приложений ...            2\n",
              "5147    акция  В остальных трейдинговых программах хакеры име...            2\n",
              "5148    акция  Для этого взломщикам достаточно начать скупать...            2\n",
              "5149    акция  Г-н Коломойский, который сейчас скрывается, по...            4\n",
              "\n",
              "[5150 rows x 3 columns]"
            ],
            "text/html": [
              "\n",
              "  <div id=\"df-0dcc67f1-78db-4239-8bcf-aacc6395897f\" class=\"colab-df-container\">\n",
              "    <div>\n",
              "<style scoped>\n",
              "    .dataframe tbody tr th:only-of-type {\n",
              "        vertical-align: middle;\n",
              "    }\n",
              "\n",
              "    .dataframe tbody tr th {\n",
              "        vertical-align: top;\n",
              "    }\n",
              "\n",
              "    .dataframe thead th {\n",
              "        text-align: right;\n",
              "    }\n",
              "</style>\n",
              "<table border=\"1\" class=\"dataframe\">\n",
              "  <thead>\n",
              "    <tr style=\"text-align: right;\">\n",
              "      <th></th>\n",
              "      <th>word</th>\n",
              "      <th>context</th>\n",
              "      <th>tag adagram</th>\n",
              "    </tr>\n",
              "  </thead>\n",
              "  <tbody>\n",
              "    <tr>\n",
              "      <th>0</th>\n",
              "      <td>квартал</td>\n",
              "      <td>Выдачи потребительских кредитов в России в тре...</td>\n",
              "      <td>0</td>\n",
              "    </tr>\n",
              "    <tr>\n",
              "      <th>1</th>\n",
              "      <td>квартал</td>\n",
              "      <td>До этого пик объема потребительского кредитова...</td>\n",
              "      <td>0</td>\n",
              "    </tr>\n",
              "    <tr>\n",
              "      <th>2</th>\n",
              "      <td>квартал</td>\n",
              "      <td>В третьем квартале 2018 года средний чек в дан...</td>\n",
              "      <td>0</td>\n",
              "    </tr>\n",
              "    <tr>\n",
              "      <th>3</th>\n",
              "      <td>квартал</td>\n",
              "      <td>В результате обстрела боевиками жилых квартало...</td>\n",
              "      <td>3</td>\n",
              "    </tr>\n",
              "    <tr>\n",
              "      <th>4</th>\n",
              "      <td>квартал</td>\n",
              "      <td>По его словам, боевики обстреляли кварталы, ра...</td>\n",
              "      <td>3</td>\n",
              "    </tr>\n",
              "    <tr>\n",
              "      <th>...</th>\n",
              "      <td>...</td>\n",
              "      <td>...</td>\n",
              "      <td>...</td>\n",
              "    </tr>\n",
              "    <tr>\n",
              "      <th>5145</th>\n",
              "      <td>акция</td>\n",
              "      <td>70 процентов респондентов хоть раз в жизни отк...</td>\n",
              "      <td>0</td>\n",
              "    </tr>\n",
              "    <tr>\n",
              "      <th>5146</th>\n",
              "      <td>акция</td>\n",
              "      <td>Специалисты проверили 11 мобильных приложений ...</td>\n",
              "      <td>2</td>\n",
              "    </tr>\n",
              "    <tr>\n",
              "      <th>5147</th>\n",
              "      <td>акция</td>\n",
              "      <td>В остальных трейдинговых программах хакеры име...</td>\n",
              "      <td>2</td>\n",
              "    </tr>\n",
              "    <tr>\n",
              "      <th>5148</th>\n",
              "      <td>акция</td>\n",
              "      <td>Для этого взломщикам достаточно начать скупать...</td>\n",
              "      <td>2</td>\n",
              "    </tr>\n",
              "    <tr>\n",
              "      <th>5149</th>\n",
              "      <td>акция</td>\n",
              "      <td>Г-н Коломойский, который сейчас скрывается, по...</td>\n",
              "      <td>4</td>\n",
              "    </tr>\n",
              "  </tbody>\n",
              "</table>\n",
              "<p>5150 rows × 3 columns</p>\n",
              "</div>\n",
              "    <div class=\"colab-df-buttons\">\n",
              "\n",
              "  <div class=\"colab-df-container\">\n",
              "    <button class=\"colab-df-convert\" onclick=\"convertToInteractive('df-0dcc67f1-78db-4239-8bcf-aacc6395897f')\"\n",
              "            title=\"Convert this dataframe to an interactive table.\"\n",
              "            style=\"display:none;\">\n",
              "\n",
              "  <svg xmlns=\"http://www.w3.org/2000/svg\" height=\"24px\" viewBox=\"0 -960 960 960\">\n",
              "    <path d=\"M120-120v-720h720v720H120Zm60-500h600v-160H180v160Zm220 220h160v-160H400v160Zm0 220h160v-160H400v160ZM180-400h160v-160H180v160Zm440 0h160v-160H620v160ZM180-180h160v-160H180v160Zm440 0h160v-160H620v160Z\"/>\n",
              "  </svg>\n",
              "    </button>\n",
              "\n",
              "  <style>\n",
              "    .colab-df-container {\n",
              "      display:flex;\n",
              "      gap: 12px;\n",
              "    }\n",
              "\n",
              "    .colab-df-convert {\n",
              "      background-color: #E8F0FE;\n",
              "      border: none;\n",
              "      border-radius: 50%;\n",
              "      cursor: pointer;\n",
              "      display: none;\n",
              "      fill: #1967D2;\n",
              "      height: 32px;\n",
              "      padding: 0 0 0 0;\n",
              "      width: 32px;\n",
              "    }\n",
              "\n",
              "    .colab-df-convert:hover {\n",
              "      background-color: #E2EBFA;\n",
              "      box-shadow: 0px 1px 2px rgba(60, 64, 67, 0.3), 0px 1px 3px 1px rgba(60, 64, 67, 0.15);\n",
              "      fill: #174EA6;\n",
              "    }\n",
              "\n",
              "    .colab-df-buttons div {\n",
              "      margin-bottom: 4px;\n",
              "    }\n",
              "\n",
              "    [theme=dark] .colab-df-convert {\n",
              "      background-color: #3B4455;\n",
              "      fill: #D2E3FC;\n",
              "    }\n",
              "\n",
              "    [theme=dark] .colab-df-convert:hover {\n",
              "      background-color: #434B5C;\n",
              "      box-shadow: 0px 1px 3px 1px rgba(0, 0, 0, 0.15);\n",
              "      filter: drop-shadow(0px 1px 2px rgba(0, 0, 0, 0.3));\n",
              "      fill: #FFFFFF;\n",
              "    }\n",
              "  </style>\n",
              "\n",
              "    <script>\n",
              "      const buttonEl =\n",
              "        document.querySelector('#df-0dcc67f1-78db-4239-8bcf-aacc6395897f button.colab-df-convert');\n",
              "      buttonEl.style.display =\n",
              "        google.colab.kernel.accessAllowed ? 'block' : 'none';\n",
              "\n",
              "      async function convertToInteractive(key) {\n",
              "        const element = document.querySelector('#df-0dcc67f1-78db-4239-8bcf-aacc6395897f');\n",
              "        const dataTable =\n",
              "          await google.colab.kernel.invokeFunction('convertToInteractive',\n",
              "                                                    [key], {});\n",
              "        if (!dataTable) return;\n",
              "\n",
              "        const docLinkHtml = 'Like what you see? Visit the ' +\n",
              "          '<a target=\"_blank\" href=https://colab.research.google.com/notebooks/data_table.ipynb>data table notebook</a>'\n",
              "          + ' to learn more about interactive tables.';\n",
              "        element.innerHTML = '';\n",
              "        dataTable['output_type'] = 'display_data';\n",
              "        await google.colab.output.renderOutput(dataTable, element);\n",
              "        const docLink = document.createElement('div');\n",
              "        docLink.innerHTML = docLinkHtml;\n",
              "        element.appendChild(docLink);\n",
              "      }\n",
              "    </script>\n",
              "  </div>\n",
              "\n",
              "\n",
              "<div id=\"df-aedb5437-b865-4857-b169-b708346f70a5\">\n",
              "  <button class=\"colab-df-quickchart\" onclick=\"quickchart('df-aedb5437-b865-4857-b169-b708346f70a5')\"\n",
              "            title=\"Suggest charts\"\n",
              "            style=\"display:none;\">\n",
              "\n",
              "<svg xmlns=\"http://www.w3.org/2000/svg\" height=\"24px\"viewBox=\"0 0 24 24\"\n",
              "     width=\"24px\">\n",
              "    <g>\n",
              "        <path d=\"M19 3H5c-1.1 0-2 .9-2 2v14c0 1.1.9 2 2 2h14c1.1 0 2-.9 2-2V5c0-1.1-.9-2-2-2zM9 17H7v-7h2v7zm4 0h-2V7h2v10zm4 0h-2v-4h2v4z\"/>\n",
              "    </g>\n",
              "</svg>\n",
              "  </button>\n",
              "\n",
              "<style>\n",
              "  .colab-df-quickchart {\n",
              "      --bg-color: #E8F0FE;\n",
              "      --fill-color: #1967D2;\n",
              "      --hover-bg-color: #E2EBFA;\n",
              "      --hover-fill-color: #174EA6;\n",
              "      --disabled-fill-color: #AAA;\n",
              "      --disabled-bg-color: #DDD;\n",
              "  }\n",
              "\n",
              "  [theme=dark] .colab-df-quickchart {\n",
              "      --bg-color: #3B4455;\n",
              "      --fill-color: #D2E3FC;\n",
              "      --hover-bg-color: #434B5C;\n",
              "      --hover-fill-color: #FFFFFF;\n",
              "      --disabled-bg-color: #3B4455;\n",
              "      --disabled-fill-color: #666;\n",
              "  }\n",
              "\n",
              "  .colab-df-quickchart {\n",
              "    background-color: var(--bg-color);\n",
              "    border: none;\n",
              "    border-radius: 50%;\n",
              "    cursor: pointer;\n",
              "    display: none;\n",
              "    fill: var(--fill-color);\n",
              "    height: 32px;\n",
              "    padding: 0;\n",
              "    width: 32px;\n",
              "  }\n",
              "\n",
              "  .colab-df-quickchart:hover {\n",
              "    background-color: var(--hover-bg-color);\n",
              "    box-shadow: 0 1px 2px rgba(60, 64, 67, 0.3), 0 1px 3px 1px rgba(60, 64, 67, 0.15);\n",
              "    fill: var(--button-hover-fill-color);\n",
              "  }\n",
              "\n",
              "  .colab-df-quickchart-complete:disabled,\n",
              "  .colab-df-quickchart-complete:disabled:hover {\n",
              "    background-color: var(--disabled-bg-color);\n",
              "    fill: var(--disabled-fill-color);\n",
              "    box-shadow: none;\n",
              "  }\n",
              "\n",
              "  .colab-df-spinner {\n",
              "    border: 2px solid var(--fill-color);\n",
              "    border-color: transparent;\n",
              "    border-bottom-color: var(--fill-color);\n",
              "    animation:\n",
              "      spin 1s steps(1) infinite;\n",
              "  }\n",
              "\n",
              "  @keyframes spin {\n",
              "    0% {\n",
              "      border-color: transparent;\n",
              "      border-bottom-color: var(--fill-color);\n",
              "      border-left-color: var(--fill-color);\n",
              "    }\n",
              "    20% {\n",
              "      border-color: transparent;\n",
              "      border-left-color: var(--fill-color);\n",
              "      border-top-color: var(--fill-color);\n",
              "    }\n",
              "    30% {\n",
              "      border-color: transparent;\n",
              "      border-left-color: var(--fill-color);\n",
              "      border-top-color: var(--fill-color);\n",
              "      border-right-color: var(--fill-color);\n",
              "    }\n",
              "    40% {\n",
              "      border-color: transparent;\n",
              "      border-right-color: var(--fill-color);\n",
              "      border-top-color: var(--fill-color);\n",
              "    }\n",
              "    60% {\n",
              "      border-color: transparent;\n",
              "      border-right-color: var(--fill-color);\n",
              "    }\n",
              "    80% {\n",
              "      border-color: transparent;\n",
              "      border-right-color: var(--fill-color);\n",
              "      border-bottom-color: var(--fill-color);\n",
              "    }\n",
              "    90% {\n",
              "      border-color: transparent;\n",
              "      border-bottom-color: var(--fill-color);\n",
              "    }\n",
              "  }\n",
              "</style>\n",
              "\n",
              "  <script>\n",
              "    async function quickchart(key) {\n",
              "      const quickchartButtonEl =\n",
              "        document.querySelector('#' + key + ' button');\n",
              "      quickchartButtonEl.disabled = true;  // To prevent multiple clicks.\n",
              "      quickchartButtonEl.classList.add('colab-df-spinner');\n",
              "      try {\n",
              "        const charts = await google.colab.kernel.invokeFunction(\n",
              "            'suggestCharts', [key], {});\n",
              "      } catch (error) {\n",
              "        console.error('Error during call to suggestCharts:', error);\n",
              "      }\n",
              "      quickchartButtonEl.classList.remove('colab-df-spinner');\n",
              "      quickchartButtonEl.classList.add('colab-df-quickchart-complete');\n",
              "    }\n",
              "    (() => {\n",
              "      let quickchartButtonEl =\n",
              "        document.querySelector('#df-aedb5437-b865-4857-b169-b708346f70a5 button');\n",
              "      quickchartButtonEl.style.display =\n",
              "        google.colab.kernel.accessAllowed ? 'block' : 'none';\n",
              "    })();\n",
              "  </script>\n",
              "</div>\n",
              "    </div>\n",
              "  </div>\n"
            ]
          },
          "metadata": {},
          "execution_count": 111
        }
      ]
    },
    {
      "cell_type": "code",
      "source": [
        "all_words_vocab = ['квартал'] * len(dct_lem['квартал']) + ['рак'] * len(dct_lem['рак']) + ['компания'] * len(dct_lem['компания']) + ['акция'] * len(dct_lem['акция']) + ['бумага'] * len(dct_lem['бумага'])\n",
        "all_contexts_vocab = dct['квартал'] + dct['рак'] + dct['компания'] + dct['акция'] + dct['бумага']\n",
        "ada_all_vocab = ada_kvart_vocab + ada_rak_vocab + ada_comp_vocab + ada_ac_vocab + ada_bum_vocab"
      ],
      "metadata": {
        "id": "7AnyjMumjhVV"
      },
      "execution_count": 103,
      "outputs": []
    },
    {
      "cell_type": "code",
      "source": [
        "with open('ada_res_vocab.csv', 'w', encoding='utf-8') as csvfile:\n",
        "  csvwriter = csv.writer(csvfile)\n",
        "  csvwriter.writerow([\"word\", \"meaning\", \"tag adagram\"])\n",
        "  for i in range(len(all_words)):\n",
        "    csvwriter.writerow([all_words_vocab[i], all_contexts_vocab[i], ada_all_vocab[i]])"
      ],
      "metadata": {
        "id": "k3cqQGgphe5x"
      },
      "execution_count": 104,
      "outputs": []
    },
    {
      "cell_type": "code",
      "source": [
        "files.download('ada_res_vocab.csv')"
      ],
      "metadata": {
        "colab": {
          "base_uri": "https://localhost:8080/",
          "height": 34
        },
        "id": "VEuBhrImhe8d",
        "outputId": "5cfd7ef2-4fb8-43f3-e773-89a4ff19d44f"
      },
      "execution_count": 105,
      "outputs": [
        {
          "output_type": "display_data",
          "data": {
            "text/plain": [
              "<IPython.core.display.Javascript object>"
            ],
            "application/javascript": [
              "\n",
              "    async function download(id, filename, size) {\n",
              "      if (!google.colab.kernel.accessAllowed) {\n",
              "        return;\n",
              "      }\n",
              "      const div = document.createElement('div');\n",
              "      const label = document.createElement('label');\n",
              "      label.textContent = `Downloading \"${filename}\": `;\n",
              "      div.appendChild(label);\n",
              "      const progress = document.createElement('progress');\n",
              "      progress.max = size;\n",
              "      div.appendChild(progress);\n",
              "      document.body.appendChild(div);\n",
              "\n",
              "      const buffers = [];\n",
              "      let downloaded = 0;\n",
              "\n",
              "      const channel = await google.colab.kernel.comms.open(id);\n",
              "      // Send a message to notify the kernel that we're ready.\n",
              "      channel.send({})\n",
              "\n",
              "      for await (const message of channel.messages) {\n",
              "        // Send a message to notify the kernel that we're ready.\n",
              "        channel.send({})\n",
              "        if (message.buffers) {\n",
              "          for (const buffer of message.buffers) {\n",
              "            buffers.push(buffer);\n",
              "            downloaded += buffer.byteLength;\n",
              "            progress.value = downloaded;\n",
              "          }\n",
              "        }\n",
              "      }\n",
              "      const blob = new Blob(buffers, {type: 'application/binary'});\n",
              "      const a = document.createElement('a');\n",
              "      a.href = window.URL.createObjectURL(blob);\n",
              "      a.download = filename;\n",
              "      div.appendChild(a);\n",
              "      a.click();\n",
              "      div.remove();\n",
              "    }\n",
              "  "
            ]
          },
          "metadata": {}
        },
        {
          "output_type": "display_data",
          "data": {
            "text/plain": [
              "<IPython.core.display.Javascript object>"
            ],
            "application/javascript": [
              "download(\"download_a2e28ac6-f213-4f70-8407-83a80b48c664\", \"ada_res_vocab.csv\", 2269)"
            ]
          },
          "metadata": {}
        }
      ]
    },
    {
      "cell_type": "code",
      "source": [
        "pd.read_csv('ada_res_vocab.csv')"
      ],
      "metadata": {
        "colab": {
          "base_uri": "https://localhost:8080/",
          "height": 419
        },
        "id": "V7Cf7ZfGUq8f",
        "outputId": "a2325ff4-215e-42cb-8fb4-ba81fd96073a"
      },
      "execution_count": 106,
      "outputs": [
        {
          "output_type": "execute_result",
          "data": {
            "text/plain": [
              "        word                                            meaning  tag adagram\n",
              "0    квартал                 Четвертая часть года (три месяца).            0\n",
              "1    квартал  Часть города, ограниченная четырьмя пересекающ...            3\n",
              "2    квартал  Участок засаженной земли (леса, поля, виноград...            3\n",
              "3        рак  Покрытое панцирем пресноводное беспозвоночное ...            3\n",
              "4        рак  Злокачественная опухоль наружных или внутренни...            0\n",
              "5        рак  Болезнь растений, характеризующаяся местным на...            0\n",
              "6   компания  Общество, группа лиц, проводящих вместе время ...            1\n",
              "7   компания  Капиталистическое (торговое или промышленное) ...            1\n",
              "8      акция  Ценная бумага, удостоверяющая взнос определенн...            2\n",
              "9      акция  Действие, предпринимаемое для достижения какой...            4\n",
              "10    бумага  Материал для письма, печати, рисования и т. п....            1\n",
              "11    бумага  Всякий письменный документ официального характ...            2\n",
              "12    бумага                 Всякие листы с рукописным текстом.            1"
            ],
            "text/html": [
              "\n",
              "  <div id=\"df-a4655a88-1d2b-42e3-b6b3-7c9f60975522\" class=\"colab-df-container\">\n",
              "    <div>\n",
              "<style scoped>\n",
              "    .dataframe tbody tr th:only-of-type {\n",
              "        vertical-align: middle;\n",
              "    }\n",
              "\n",
              "    .dataframe tbody tr th {\n",
              "        vertical-align: top;\n",
              "    }\n",
              "\n",
              "    .dataframe thead th {\n",
              "        text-align: right;\n",
              "    }\n",
              "</style>\n",
              "<table border=\"1\" class=\"dataframe\">\n",
              "  <thead>\n",
              "    <tr style=\"text-align: right;\">\n",
              "      <th></th>\n",
              "      <th>word</th>\n",
              "      <th>meaning</th>\n",
              "      <th>tag adagram</th>\n",
              "    </tr>\n",
              "  </thead>\n",
              "  <tbody>\n",
              "    <tr>\n",
              "      <th>0</th>\n",
              "      <td>квартал</td>\n",
              "      <td>Четвертая часть года (три месяца).</td>\n",
              "      <td>0</td>\n",
              "    </tr>\n",
              "    <tr>\n",
              "      <th>1</th>\n",
              "      <td>квартал</td>\n",
              "      <td>Часть города, ограниченная четырьмя пересекающ...</td>\n",
              "      <td>3</td>\n",
              "    </tr>\n",
              "    <tr>\n",
              "      <th>2</th>\n",
              "      <td>квартал</td>\n",
              "      <td>Участок засаженной земли (леса, поля, виноград...</td>\n",
              "      <td>3</td>\n",
              "    </tr>\n",
              "    <tr>\n",
              "      <th>3</th>\n",
              "      <td>рак</td>\n",
              "      <td>Покрытое панцирем пресноводное беспозвоночное ...</td>\n",
              "      <td>3</td>\n",
              "    </tr>\n",
              "    <tr>\n",
              "      <th>4</th>\n",
              "      <td>рак</td>\n",
              "      <td>Злокачественная опухоль наружных или внутренни...</td>\n",
              "      <td>0</td>\n",
              "    </tr>\n",
              "    <tr>\n",
              "      <th>5</th>\n",
              "      <td>рак</td>\n",
              "      <td>Болезнь растений, характеризующаяся местным на...</td>\n",
              "      <td>0</td>\n",
              "    </tr>\n",
              "    <tr>\n",
              "      <th>6</th>\n",
              "      <td>компания</td>\n",
              "      <td>Общество, группа лиц, проводящих вместе время ...</td>\n",
              "      <td>1</td>\n",
              "    </tr>\n",
              "    <tr>\n",
              "      <th>7</th>\n",
              "      <td>компания</td>\n",
              "      <td>Капиталистическое (торговое или промышленное) ...</td>\n",
              "      <td>1</td>\n",
              "    </tr>\n",
              "    <tr>\n",
              "      <th>8</th>\n",
              "      <td>акция</td>\n",
              "      <td>Ценная бумага, удостоверяющая взнос определенн...</td>\n",
              "      <td>2</td>\n",
              "    </tr>\n",
              "    <tr>\n",
              "      <th>9</th>\n",
              "      <td>акция</td>\n",
              "      <td>Действие, предпринимаемое для достижения какой...</td>\n",
              "      <td>4</td>\n",
              "    </tr>\n",
              "    <tr>\n",
              "      <th>10</th>\n",
              "      <td>бумага</td>\n",
              "      <td>Материал для письма, печати, рисования и т. п....</td>\n",
              "      <td>1</td>\n",
              "    </tr>\n",
              "    <tr>\n",
              "      <th>11</th>\n",
              "      <td>бумага</td>\n",
              "      <td>Всякий письменный документ официального характ...</td>\n",
              "      <td>2</td>\n",
              "    </tr>\n",
              "    <tr>\n",
              "      <th>12</th>\n",
              "      <td>бумага</td>\n",
              "      <td>Всякие листы с рукописным текстом.</td>\n",
              "      <td>1</td>\n",
              "    </tr>\n",
              "  </tbody>\n",
              "</table>\n",
              "</div>\n",
              "    <div class=\"colab-df-buttons\">\n",
              "\n",
              "  <div class=\"colab-df-container\">\n",
              "    <button class=\"colab-df-convert\" onclick=\"convertToInteractive('df-a4655a88-1d2b-42e3-b6b3-7c9f60975522')\"\n",
              "            title=\"Convert this dataframe to an interactive table.\"\n",
              "            style=\"display:none;\">\n",
              "\n",
              "  <svg xmlns=\"http://www.w3.org/2000/svg\" height=\"24px\" viewBox=\"0 -960 960 960\">\n",
              "    <path d=\"M120-120v-720h720v720H120Zm60-500h600v-160H180v160Zm220 220h160v-160H400v160Zm0 220h160v-160H400v160ZM180-400h160v-160H180v160Zm440 0h160v-160H620v160ZM180-180h160v-160H180v160Zm440 0h160v-160H620v160Z\"/>\n",
              "  </svg>\n",
              "    </button>\n",
              "\n",
              "  <style>\n",
              "    .colab-df-container {\n",
              "      display:flex;\n",
              "      gap: 12px;\n",
              "    }\n",
              "\n",
              "    .colab-df-convert {\n",
              "      background-color: #E8F0FE;\n",
              "      border: none;\n",
              "      border-radius: 50%;\n",
              "      cursor: pointer;\n",
              "      display: none;\n",
              "      fill: #1967D2;\n",
              "      height: 32px;\n",
              "      padding: 0 0 0 0;\n",
              "      width: 32px;\n",
              "    }\n",
              "\n",
              "    .colab-df-convert:hover {\n",
              "      background-color: #E2EBFA;\n",
              "      box-shadow: 0px 1px 2px rgba(60, 64, 67, 0.3), 0px 1px 3px 1px rgba(60, 64, 67, 0.15);\n",
              "      fill: #174EA6;\n",
              "    }\n",
              "\n",
              "    .colab-df-buttons div {\n",
              "      margin-bottom: 4px;\n",
              "    }\n",
              "\n",
              "    [theme=dark] .colab-df-convert {\n",
              "      background-color: #3B4455;\n",
              "      fill: #D2E3FC;\n",
              "    }\n",
              "\n",
              "    [theme=dark] .colab-df-convert:hover {\n",
              "      background-color: #434B5C;\n",
              "      box-shadow: 0px 1px 3px 1px rgba(0, 0, 0, 0.15);\n",
              "      filter: drop-shadow(0px 1px 2px rgba(0, 0, 0, 0.3));\n",
              "      fill: #FFFFFF;\n",
              "    }\n",
              "  </style>\n",
              "\n",
              "    <script>\n",
              "      const buttonEl =\n",
              "        document.querySelector('#df-a4655a88-1d2b-42e3-b6b3-7c9f60975522 button.colab-df-convert');\n",
              "      buttonEl.style.display =\n",
              "        google.colab.kernel.accessAllowed ? 'block' : 'none';\n",
              "\n",
              "      async function convertToInteractive(key) {\n",
              "        const element = document.querySelector('#df-a4655a88-1d2b-42e3-b6b3-7c9f60975522');\n",
              "        const dataTable =\n",
              "          await google.colab.kernel.invokeFunction('convertToInteractive',\n",
              "                                                    [key], {});\n",
              "        if (!dataTable) return;\n",
              "\n",
              "        const docLinkHtml = 'Like what you see? Visit the ' +\n",
              "          '<a target=\"_blank\" href=https://colab.research.google.com/notebooks/data_table.ipynb>data table notebook</a>'\n",
              "          + ' to learn more about interactive tables.';\n",
              "        element.innerHTML = '';\n",
              "        dataTable['output_type'] = 'display_data';\n",
              "        await google.colab.output.renderOutput(dataTable, element);\n",
              "        const docLink = document.createElement('div');\n",
              "        docLink.innerHTML = docLinkHtml;\n",
              "        element.appendChild(docLink);\n",
              "      }\n",
              "    </script>\n",
              "  </div>\n",
              "\n",
              "\n",
              "<div id=\"df-9d8aa919-0286-4c63-a5f4-c3c5f8f55e14\">\n",
              "  <button class=\"colab-df-quickchart\" onclick=\"quickchart('df-9d8aa919-0286-4c63-a5f4-c3c5f8f55e14')\"\n",
              "            title=\"Suggest charts\"\n",
              "            style=\"display:none;\">\n",
              "\n",
              "<svg xmlns=\"http://www.w3.org/2000/svg\" height=\"24px\"viewBox=\"0 0 24 24\"\n",
              "     width=\"24px\">\n",
              "    <g>\n",
              "        <path d=\"M19 3H5c-1.1 0-2 .9-2 2v14c0 1.1.9 2 2 2h14c1.1 0 2-.9 2-2V5c0-1.1-.9-2-2-2zM9 17H7v-7h2v7zm4 0h-2V7h2v10zm4 0h-2v-4h2v4z\"/>\n",
              "    </g>\n",
              "</svg>\n",
              "  </button>\n",
              "\n",
              "<style>\n",
              "  .colab-df-quickchart {\n",
              "      --bg-color: #E8F0FE;\n",
              "      --fill-color: #1967D2;\n",
              "      --hover-bg-color: #E2EBFA;\n",
              "      --hover-fill-color: #174EA6;\n",
              "      --disabled-fill-color: #AAA;\n",
              "      --disabled-bg-color: #DDD;\n",
              "  }\n",
              "\n",
              "  [theme=dark] .colab-df-quickchart {\n",
              "      --bg-color: #3B4455;\n",
              "      --fill-color: #D2E3FC;\n",
              "      --hover-bg-color: #434B5C;\n",
              "      --hover-fill-color: #FFFFFF;\n",
              "      --disabled-bg-color: #3B4455;\n",
              "      --disabled-fill-color: #666;\n",
              "  }\n",
              "\n",
              "  .colab-df-quickchart {\n",
              "    background-color: var(--bg-color);\n",
              "    border: none;\n",
              "    border-radius: 50%;\n",
              "    cursor: pointer;\n",
              "    display: none;\n",
              "    fill: var(--fill-color);\n",
              "    height: 32px;\n",
              "    padding: 0;\n",
              "    width: 32px;\n",
              "  }\n",
              "\n",
              "  .colab-df-quickchart:hover {\n",
              "    background-color: var(--hover-bg-color);\n",
              "    box-shadow: 0 1px 2px rgba(60, 64, 67, 0.3), 0 1px 3px 1px rgba(60, 64, 67, 0.15);\n",
              "    fill: var(--button-hover-fill-color);\n",
              "  }\n",
              "\n",
              "  .colab-df-quickchart-complete:disabled,\n",
              "  .colab-df-quickchart-complete:disabled:hover {\n",
              "    background-color: var(--disabled-bg-color);\n",
              "    fill: var(--disabled-fill-color);\n",
              "    box-shadow: none;\n",
              "  }\n",
              "\n",
              "  .colab-df-spinner {\n",
              "    border: 2px solid var(--fill-color);\n",
              "    border-color: transparent;\n",
              "    border-bottom-color: var(--fill-color);\n",
              "    animation:\n",
              "      spin 1s steps(1) infinite;\n",
              "  }\n",
              "\n",
              "  @keyframes spin {\n",
              "    0% {\n",
              "      border-color: transparent;\n",
              "      border-bottom-color: var(--fill-color);\n",
              "      border-left-color: var(--fill-color);\n",
              "    }\n",
              "    20% {\n",
              "      border-color: transparent;\n",
              "      border-left-color: var(--fill-color);\n",
              "      border-top-color: var(--fill-color);\n",
              "    }\n",
              "    30% {\n",
              "      border-color: transparent;\n",
              "      border-left-color: var(--fill-color);\n",
              "      border-top-color: var(--fill-color);\n",
              "      border-right-color: var(--fill-color);\n",
              "    }\n",
              "    40% {\n",
              "      border-color: transparent;\n",
              "      border-right-color: var(--fill-color);\n",
              "      border-top-color: var(--fill-color);\n",
              "    }\n",
              "    60% {\n",
              "      border-color: transparent;\n",
              "      border-right-color: var(--fill-color);\n",
              "    }\n",
              "    80% {\n",
              "      border-color: transparent;\n",
              "      border-right-color: var(--fill-color);\n",
              "      border-bottom-color: var(--fill-color);\n",
              "    }\n",
              "    90% {\n",
              "      border-color: transparent;\n",
              "      border-bottom-color: var(--fill-color);\n",
              "    }\n",
              "  }\n",
              "</style>\n",
              "\n",
              "  <script>\n",
              "    async function quickchart(key) {\n",
              "      const quickchartButtonEl =\n",
              "        document.querySelector('#' + key + ' button');\n",
              "      quickchartButtonEl.disabled = true;  // To prevent multiple clicks.\n",
              "      quickchartButtonEl.classList.add('colab-df-spinner');\n",
              "      try {\n",
              "        const charts = await google.colab.kernel.invokeFunction(\n",
              "            'suggestCharts', [key], {});\n",
              "      } catch (error) {\n",
              "        console.error('Error during call to suggestCharts:', error);\n",
              "      }\n",
              "      quickchartButtonEl.classList.remove('colab-df-spinner');\n",
              "      quickchartButtonEl.classList.add('colab-df-quickchart-complete');\n",
              "    }\n",
              "    (() => {\n",
              "      let quickchartButtonEl =\n",
              "        document.querySelector('#df-9d8aa919-0286-4c63-a5f4-c3c5f8f55e14 button');\n",
              "      quickchartButtonEl.style.display =\n",
              "        google.colab.kernel.accessAllowed ? 'block' : 'none';\n",
              "    })();\n",
              "  </script>\n",
              "</div>\n",
              "    </div>\n",
              "  </div>\n"
            ]
          },
          "metadata": {},
          "execution_count": 106
        }
      ]
    },
    {
      "cell_type": "code",
      "source": [
        "dct_meanings = {\n",
        "    'квартал': [0, 3],\n",
        "    'рак': [0, 3],\n",
        "    'компания': [],\n",
        "    'акция': [2, 4],\n",
        "    'бумага': [1, 2]\n",
        "}"
      ],
      "metadata": {
        "id": "sBCe9ozQAyKa"
      },
      "execution_count": 122,
      "outputs": []
    },
    {
      "cell_type": "code",
      "source": [
        "# создание подкорпуса для ручной разметки\n",
        "sub_corp_ada = []\n",
        "for lexeme in lexemes:\n",
        "  contexts_used = []\n",
        "  for i in range(len(all_words)):\n",
        "    if lexeme == all_words[i]:\n",
        "      if ada_all[i] in dct_meanings[lexeme] and contexts_used.count(ada_all[i]) < 5:\n",
        "        sub_corp_ada.append([lexeme, all_contexts[i], ada_all[i]])\n",
        "        contexts_used.append(ada_all[i])"
      ],
      "metadata": {
        "id": "L2XhE0F7Uq_M"
      },
      "execution_count": 123,
      "outputs": []
    },
    {
      "cell_type": "code",
      "source": [
        "# разметка\n",
        "sub_corp_ada_done = []\n",
        "for context in sub_corp_ada:\n",
        "  print(context)\n",
        "  inp = input(\"Если значение слова в контексте совпадает со словарным значением, введите 1, иначе - 0.\")\n",
        "  res = context + [inp]\n",
        "  sub_corp_ada_done.append(res)"
      ],
      "metadata": {
        "colab": {
          "base_uri": "https://localhost:8080/"
        },
        "id": "GB22LNde8mxN",
        "outputId": "07b1c8af-8ad9-4d9d-a7d5-e4a6131a87fb"
      },
      "execution_count": 125,
      "outputs": [
        {
          "name": "stdout",
          "output_type": "stream",
          "text": [
            "['квартал', 'Выдачи потребительских кредитов в России в третьем квартале 2018 года достигли исторического максимума.\\n', 0]\n",
            "Если значение слова в контексте совпадает со словарным значением, введите 1, иначе - 0.1\n",
            "['квартал', 'До этого пик объема потребительского кредитования пришелся на второй квартал 2013 года — тогда сумма займов фиксировалась на уровне 581 миллиарда рублей.\\n', 0]\n",
            "Если значение слова в контексте совпадает со словарным значением, введите 1, иначе - 0.1\n",
            "['квартал', 'В третьем квартале 2018 года средний чек в данном виде кредитования также побил все рекорды и достиг 178 тысяч рублей.\\n', 0]\n",
            "Если значение слова в контексте совпадает со словарным значением, введите 1, иначе - 0.1\n",
            "['квартал', 'В результате обстрела боевиками жилых кварталов сирийского Алеппо пострадали не менее 100 человек.\\n', 3]\n",
            "Если значение слова в контексте совпадает со словарным значением, введите 1, иначе - 0.1\n",
            "['квартал', 'По его словам, боевики обстреляли кварталы, расположенные около линии соприкосновения сирийской армии с бандформированиями.\\n', 3]\n",
            "Если значение слова в контексте совпадает со словарным значением, введите 1, иначе - 0.1\n",
            "['квартал', 'Прямые инвестиции иностранцев в российскую экономику упали в третьем квартале 2018 года на шесть миллиардов долларов.\\n', 0]\n",
            "Если значение слова в контексте совпадает со словарным значением, введите 1, иначе - 0.1\n",
            "['квартал', 'Также это первое снижение со второго квартала 2015 года.\\n', 0]\n",
            "Если значение слова в контексте совпадает со словарным значением, введите 1, иначе - 0.1\n",
            "['квартал', 'Компания «Донстрой» завершает работы по благоустройству Шелепихинской набережной рядом с кварталом «Сердце Столицы».\\n', 3]\n",
            "Если значение слова в контексте совпадает со словарным значением, введите 1, иначе - 0.1\n",
            "['квартал', 'Популярности нового рекреационного пространства среди горожан будет способствовать расположение на первой линии квартала «Сердце Столицы» крупного инфраструктурного блока, включающего в себя торговый центр с супермаркетом, фитнес-центр с бассейном, ресторан с видовой террасой, многочисленные кафе и кофейни.\\n', 3]\n",
            "Если значение слова в контексте совпадает со словарным значением, введите 1, иначе - 0.1\n",
            "['квартал', 'Представители группы компаний ПИК провели встречу с жителями дома 20 по улице Ивана Франко в столичном районе Кунцево, посвященную ситуация вокруг застройки кварталов 47 и 48.\\n', 3]\n",
            "Если значение слова в контексте совпадает со словарным значением, введите 1, иначе - 0.1\n",
            "['рак', 'Колоректальный рак — один из самых распространенных типов злокачественных опухолей.\\n', 0]\n",
            "Если значение слова в контексте совпадает со словарным значением, введите 1, иначе - 0.1\n",
            "['рак', 'Ежегодно выявляется около 600 тысяч новых случаев этого заболевания, риск его развития, как и многих других форм рака, повышается с возрастом.\\n', 0]\n",
            "Если значение слова в контексте совпадает со словарным значением, введите 1, иначе - 0.1\n",
            "['рак', 'Специалисты также проанализировали данные, полученные при обследовании 541 пациента с раком толстой кишки.\\n', 0]\n",
            "Если значение слова в контексте совпадает со словарным значением, введите 1, иначе - 0.1\n",
            "['рак', 'Таким образом, заключают ученые, хроническое воспаление в кишечнике не влияет на вероятность развития колоректального рака.\\n', 0]\n",
            "Если значение слова в контексте совпадает со словарным значением, введите 1, иначе - 0.1\n",
            "['рак', 'Будущие исследования должны помочь выяснить, какие компоненты микрофлоры влияют на течение заболевания, и разработать микробную терапию рака.\\n', 0]\n",
            "Если значение слова в контексте совпадает со словарным значением, введите 1, иначе - 0.1\n",
            "['рак', 'В 2015 году Всемирная организация здравоохранения пришла к выводу, что обработанное мясо, например, ветчина, жареные сосиски и колбасы, является канцерогеном группы 1 (туда же относят асбест и табак) и вызывает рак толстой кишки и желудка.\\n', 3]\n",
            "Если значение слова в контексте совпадает со словарным значением, введите 1, иначе - 0.0\n",
            "['рак', 'Жительница Великобритании Бет Кинг (Beth King) пожаловалась на сотрудницу «Макдоналдса», которая дала ее больной раком дочери бутылку воды, а потом попросила заплатить за нее.\\n', 3]\n",
            "Если значение слова в контексте совпадает со словарным значением, введите 1, иначе - 0.0\n",
            "['рак', 'Кроме того, на бутылки начнут клеить этикетки, предупреждающие о возможности возникновения рака.\\n', 3]\n",
            "Если значение слова в контексте совпадает со словарным значением, введите 1, иначе - 0.0\n",
            "['рак', 'После очередного отказа мужчина заблокировал художника, назвал его куском дерьма и пожелал ему заболеть раком.\\n', 3]\n",
            "Если значение слова в контексте совпадает со словарным значением, введите 1, иначе - 0.0\n",
            "['рак', 'Шведский производитель одежды и аксессуаров H&M выпустил специальную линию бюстгальтеров под названием Close to my heart («Близкий моему сердцу») для перенесших рак груди женщин.\\n', 3]\n",
            "Если значение слова в контексте совпадает со словарным значением, введите 1, иначе - 0.0\n",
            "['акция', 'Крупнейшая торговая сеть России X5 Retail Group сохранит скидки, акции и бонусы в своих магазинах (сети «Пятерочка», «Перекресток» и «Карусель») для всех пенсионеров — компания проигнорирует повышение пенсионного возраста.\\n', 2]\n",
            "Если значение слова в контексте совпадает со словарным значением, введите 1, иначе - 0.0\n",
            "['акция', 'Протест называют «акцией желтых жилетов», поскольку активисты одеты в желтые светоотражающие жилеты, которые обычно носят водители.\\n', 4]\n",
            "Если значение слова в контексте совпадает со словарным значением, введите 1, иначе - 0.1\n",
            "['акция', 'Акция получила название «Желтые жилеты», поскольку демонстранты носят светоотражающие жилеты, как у водителей.\\n', 4]\n",
            "Если значение слова в контексте совпадает со словарным значением, введите 1, иначе - 0.1\n",
            "['акция', 'Его объясняют тем, что из-за санкций американские инвесторы должны избавиться от акций и долговых инструментов En+, Rusal и группы ГАЗ.\\n', 2]\n",
            "Если значение слова в контексте совпадает со словарным значением, введите 1, иначе - 0.1\n",
            "['акция', 'Фанат «Виннипега» Кристофер Хэйли принял участие в акции сети магазинов Sobeys.\\n', 4]\n",
            "Если значение слова в контексте совпадает со словарным значением, введите 1, иначе - 0.1\n",
            "['акция', 'Данная продукция из российского винограда может стоить от 300 рублей, а в акции доходить до 200, и даже в этой ценовой категории «можно найти не самые плохие» варианты.\\n', 2]\n",
            "Если значение слова в контексте совпадает со словарным значением, введите 1, иначе - 0.1\n",
            "['акция', 'Поводом послужил твит о намерении сделать компанию частной и выкупить все акции по 420 долларов.\\n', 4]\n",
            "Если значение слова в контексте совпадает со словарным значением, введите 1, иначе - 0.0\n",
            "['акция', 'Это стало поводом заподозрить его в мошенничестве с целью повлиять на курс акций.\\n', 2]\n",
            "Если значение слова в контексте совпадает со словарным значением, введите 1, иначе - 0.1\n",
            "['акция', 'Британский автопроизводитель Aston Martin объявил о проведении IPO — первичного размещения акций на бирже, сообщает Reuters со ссылкой на пресс-релиз компании.\\n', 2]\n",
            "Если значение слова в контексте совпадает со словарным значением, введите 1, иначе - 0.1\n",
            "['акция', 'Впоследствии он отказался от своих планов, что стало поводом заподозрить его в мошенничестве с целью повлиять на курс акций.\\n', 4]\n",
            "Если значение слова в контексте совпадает со словарным значением, введите 1, иначе - 0.0\n",
            "['бумага', 'В его карманах нашли десятки проигрышных лотерейных билетов и обгоревшие бумаги из банка, из которых следовало, что у него были невыплаченные долги.\\n', 2]\n",
            "Если значение слова в контексте совпадает со словарным значением, введите 1, иначе - 0.1\n",
            "['бумага', 'Получить бумагу можно только в Грозном — теперь только при ее наличии обряд бракосочетания будет считаться действительным.\\n', 2]\n",
            "Если значение слова в контексте совпадает со словарным значением, введите 1, иначе - 0.1\n",
            "['бумага', 'Но с оформлением бумаг возникли проблемы, решить которые мирным путем не удалось».\\n', 2]\n",
            "Если значение слова в контексте совпадает со словарным значением, введите 1, иначе - 0.1\n",
            "['бумага', 'Бумага была передана в секретариат ассамблеи.\\n', 2]\n",
            "Если значение слова в контексте совпадает со словарным значением, введите 1, иначе - 0.1\n",
            "['бумага', 'На основании этих бумаг гражданин может обратиться за получением внутреннего или заграничного венгерского паспорта самостоятельно.\\n', 2]\n",
            "Если значение слова в контексте совпадает со словарным значением, введите 1, иначе - 0.1\n",
            "['бумага', 'В общей сложности организация проанализировала более 30 брендов одно-, двух-, трех- и четырехслойной туалетной бумаги.\\n', 1]\n",
            "Если значение слова в контексте совпадает со словарным значением, введите 1, иначе - 0.1\n",
            "['бумага', 'Эксперты «Роскачества», в частности, развенчали миф о том, что дешевая туалетная бумага, которая делается из вторичного сырья, может содержать в себе вредные вещества, например, свинец — все образцы вне зависимости от количества слоев были признаны безопасными.\\n', 1]\n",
            "Если значение слова в контексте совпадает со словарным значением, введите 1, иначе - 0.1\n",
            "['бумага', 'При анализе цветовых и ароматных качеств туалетной бумаги эксперты выяснили, что образцы Lotus (трехслойная, светло-розовая) и Pero Ultracolor (трехслойная, синяя) не прошли тесты и могут окраситься при соприкосновении с жидкостью.\\n', 1]\n",
            "Если значение слова в контексте совпадает со словарным значением, введите 1, иначе - 0.1\n",
            "['бумага', 'Самой мягкой туалетной бумагой оказалась Zewa Exclusive ultra soft, которая получила 5 баллов.\\n', 1]\n",
            "Если значение слова в контексте совпадает со словарным значением, введите 1, иначе - 0.1\n",
            "['бумага', 'Самой жесткой признали бренды «Б/Н» (однослойная, Воронеж), «Красная цена» (однослойная), «Лилия» (2 слоя) и «Туалетная бумага из Набережных Челнов» (однослойная), которые получили по одному баллу.\\n', 1]\n",
            "Если значение слова в контексте совпадает со словарным значением, введите 1, иначе - 0.1\n"
          ]
        }
      ]
    },
    {
      "cell_type": "code",
      "source": [
        "sub_corp_ada_done[:3]"
      ],
      "metadata": {
        "colab": {
          "base_uri": "https://localhost:8080/"
        },
        "id": "wIBs-psJ8mzw",
        "outputId": "97c0f133-3dc1-47a5-95d3-43d100cde734"
      },
      "execution_count": 127,
      "outputs": [
        {
          "output_type": "execute_result",
          "data": {
            "text/plain": [
              "[['квартал',\n",
              "  'Выдачи потребительских кредитов в России в третьем квартале 2018 года достигли исторического максимума.\\n',\n",
              "  0,\n",
              "  '1'],\n",
              " ['квартал',\n",
              "  'До этого пик объема потребительского кредитования пришелся на второй квартал 2013 года — тогда сумма займов фиксировалась на уровне 581 миллиарда рублей.\\n',\n",
              "  0,\n",
              "  '1'],\n",
              " ['квартал',\n",
              "  'В третьем квартале 2018 года средний чек в данном виде кредитования также побил все рекорды и достиг 178 тысяч рублей.\\n',\n",
              "  0,\n",
              "  '1']]"
            ]
          },
          "metadata": {},
          "execution_count": 127
        }
      ]
    },
    {
      "cell_type": "code",
      "source": [
        "ada_results = []\n",
        "for i in sub_corp_ada_done:\n",
        "  ada_results.append(i[-1])"
      ],
      "metadata": {
        "id": "Lgr-VXliKFOy"
      },
      "execution_count": 129,
      "outputs": []
    },
    {
      "cell_type": "code",
      "source": [
        "ada_accuracy = ada_results.count('1') / len(ada_results)"
      ],
      "metadata": {
        "id": "qh3oN1K0UrCU"
      },
      "execution_count": 134,
      "outputs": []
    },
    {
      "cell_type": "markdown",
      "source": [
        "Точность:"
      ],
      "metadata": {
        "id": "K41PwRGg8Sq6"
      }
    },
    {
      "cell_type": "code",
      "source": [
        "ada_accuracy"
      ],
      "metadata": {
        "colab": {
          "base_uri": "https://localhost:8080/"
        },
        "id": "SEb9MxMvJk3k",
        "outputId": "5ed516da-9f1e-4cdb-e25c-00fca475f1d9"
      },
      "execution_count": 135,
      "outputs": [
        {
          "output_type": "execute_result",
          "data": {
            "text/plain": [
              "0.8"
            ]
          },
          "metadata": {},
          "execution_count": 135
        }
      ]
    },
    {
      "cell_type": "markdown",
      "source": [
        "### **ELMo**"
      ],
      "metadata": {
        "id": "QuTlc-W4lS0p"
      }
    },
    {
      "cell_type": "code",
      "source": [
        "!wget http://vectors.nlpl.eu/repository/20/196.zip\n",
        "!unzip 196.zip -d 196"
      ],
      "metadata": {
        "colab": {
          "base_uri": "https://localhost:8080/"
        },
        "id": "DuibHqkNy89W",
        "outputId": "5234fd50-fe6b-4bf2-e5b5-6c0c26c2f6be"
      },
      "execution_count": 27,
      "outputs": [
        {
          "output_type": "stream",
          "name": "stdout",
          "text": [
            "--2023-12-07 10:48:08--  http://vectors.nlpl.eu/repository/20/196.zip\n",
            "Resolving vectors.nlpl.eu (vectors.nlpl.eu)... 129.240.189.181\n",
            "Connecting to vectors.nlpl.eu (vectors.nlpl.eu)|129.240.189.181|:80... connected.\n",
            "HTTP request sent, awaiting response... 200 OK\n",
            "Length: 206986351 (197M) [application/zip]\n",
            "Saving to: ‘196.zip’\n",
            "\n",
            "196.zip             100%[===================>] 197.40M  27.3MB/s    in 8.0s    \n",
            "\n",
            "2023-12-07 10:48:17 (24.8 MB/s) - ‘196.zip’ saved [206986351/206986351]\n",
            "\n",
            "Archive:  196.zip\n",
            "  inflating: 196/meta.json           \n",
            "  inflating: 196/model.hdf5          \n",
            "  inflating: 196/options.json        \n",
            "  inflating: 196/README              \n",
            "  inflating: 196/vocab.txt           \n"
          ]
        }
      ]
    },
    {
      "cell_type": "code",
      "source": [
        "model = ElmoModel()\n",
        "model.load(\"196\")"
      ],
      "metadata": {
        "colab": {
          "base_uri": "https://localhost:8080/",
          "height": 35
        },
        "id": "5UETA79slbIz",
        "outputId": "865dfba1-6499-40e3-8c89-c479505218b6"
      },
      "execution_count": 28,
      "outputs": [
        {
          "output_type": "execute_result",
          "data": {
            "text/plain": [
              "'The model is now loaded.'"
            ],
            "application/vnd.google.colaboratory.intrinsic+json": {
              "type": "string"
            }
          },
          "metadata": {},
          "execution_count": 28
        }
      ]
    },
    {
      "cell_type": "code",
      "source": [
        "def get_elmo_vectors(word, contexts, model):\n",
        "    all_vectors = model.get_elmo_vectors(contexts)\n",
        "    word_vecs = []\n",
        "    for i in range(len(contexts)):\n",
        "        try:\n",
        "            word_vecs.append(all_vectors[i][contexts[i].index(word)])\n",
        "        except ValueError:  # если нормализация накосячила и лемму не найти\n",
        "            continue\n",
        "    return word_vecs"
      ],
      "metadata": {
        "id": "yaQH8E3QHM9k"
      },
      "execution_count": 147,
      "outputs": []
    },
    {
      "cell_type": "code",
      "source": [
        "from sklearn.cluster import AffinityPropagation"
      ],
      "metadata": {
        "id": "ckNw-pj_UITx"
      },
      "execution_count": null,
      "outputs": []
    },
    {
      "cell_type": "markdown",
      "source": [
        "Я использую AffinityPropagation (а не K-Means, например), потому что при этом методе кластеризации не нужно самостоятельно задавать количество классов. Мне показалось, что в нашей задаче это плюс, потому что неочевидно, сколько кластеров мы хотим получить: например, если задать число кластеров по числу словарных статей для данной лексемы, то может быть произойти так, что не все словарные толкования будут представлены в корпусе (например потому, что есть редкие / устаревшие значения), а модель все равно будет пытаться их разбить, в результате чего мы собственноручно принудим ее давать неверные ответы и это испортит эксперимент сравнения двух методов."
      ],
      "metadata": {
        "id": "YRjZSZND892R"
      }
    },
    {
      "cell_type": "code",
      "source": [
        "def disambiguate(word, contexts_lem, model):\n",
        "  elmo_vecs = get_elmo_vectors(word, contexts_lem, model)\n",
        "  X = np.array(elmo_vecs)\n",
        "  clustering = AffinityPropagation(random_state=5).fit(X)\n",
        "  return clustering"
      ],
      "metadata": {
        "id": "SB7ywCRUUIeb"
      },
      "execution_count": 34,
      "outputs": []
    },
    {
      "cell_type": "code",
      "source": [
        "# Результат кластеризации всех контекстов\n",
        "clust_kvart = disambiguate(lexemes[0], kvart_sents_lem, model)\n",
        "clust_rak = disambiguate(lexemes[1], rak_sents_lem, model)\n",
        "clust_comp = disambiguate(lexemes[2], comp_sents_lem, model)\n",
        "clust_ac = disambiguate(lexemes[3], ac_sents_lem, model)\n",
        "clust_bum = disambiguate(lexemes[4], bum_sents_lem, model)"
      ],
      "metadata": {
        "id": "PlYiYWmJ8WSn"
      },
      "execution_count": 37,
      "outputs": []
    },
    {
      "cell_type": "code",
      "source": [
        "# Результат кластеризации всех контекстов (лэйблы)\n",
        "clust_kvart_label = clust_kvart.labels_\n",
        "clust_rak_label = clust_rak.labels_\n",
        "clust_comp_label = clust_comp.labels_\n",
        "clust_ac_label = clust_ac.labels_\n",
        "clust_bum_label = clust_bum.labels_"
      ],
      "metadata": {
        "id": "D03YolOuLXOo"
      },
      "execution_count": 137,
      "outputs": []
    },
    {
      "cell_type": "code",
      "source": [
        "# ELMo ищет таргетное слово в самом контексте, поэтому пришлось в каждое толкование добавлять лексему\n",
        "def add_word(li_li, word):\n",
        "  new_li = li_li\n",
        "  for li in new_li:\n",
        "    li.append(word)\n",
        "  return new_li"
      ],
      "metadata": {
        "id": "LGNMZyJ_b15-"
      },
      "execution_count": 159,
      "outputs": []
    },
    {
      "cell_type": "code",
      "source": [
        "kvart_word_added = add_word(dct_lem[lexemes[0]], lexemes[0])\n",
        "rak_word_added = add_word(dct_lem[lexemes[1]], lexemes[1])\n",
        "comp_word_added = add_word(dct_lem[lexemes[2]], lexemes[2])\n",
        "ac_word_added = add_word(dct_lem[lexemes[3]], lexemes[3])\n",
        "bum_word_added = add_word(dct_lem[lexemes[4]], lexemes[4])"
      ],
      "metadata": {
        "id": "yFA842Ehhlv7"
      },
      "execution_count": 165,
      "outputs": []
    },
    {
      "cell_type": "code",
      "source": [
        "# Предсказания для словарных толкований\n",
        "clust_kvart_voc = clust_kvart.predict(np.array(get_elmo_vectors(lexemes[0], kvart_word_added, model)))\n",
        "clust_rak_voc = clust_kvart.predict(np.array(get_elmo_vectors(lexemes[1], rak_word_added, model)))\n",
        "clust_comp_voc = clust_kvart.predict(np.array(get_elmo_vectors(lexemes[2], comp_word_added, model)))\n",
        "clust_ac_voc = clust_kvart.predict(np.array(get_elmo_vectors(lexemes[3], ac_word_added, model)))\n",
        "clust_bum_voc = clust_kvart.predict(np.array(get_elmo_vectors(lexemes[4], bum_word_added, model)))"
      ],
      "metadata": {
        "id": "xJRWNdcZO5BK"
      },
      "execution_count": 166,
      "outputs": []
    },
    {
      "cell_type": "code",
      "source": [
        "elmo_all = list(clust_kvart_label) + list(clust_rak_label) + list(clust_comp_label) + list(clust_ac_label) + list(clust_bum_label)"
      ],
      "metadata": {
        "id": "Gp2zmX3DO5JK"
      },
      "execution_count": 171,
      "outputs": []
    },
    {
      "cell_type": "code",
      "source": [
        "with open('elmo_res.csv', 'w', encoding='utf-8') as csvfile:\n",
        "  csvwriter = csv.writer(csvfile)\n",
        "  csvwriter.writerow([\"word\", \"context\", \"tag elmo clustering\"])\n",
        "  for i in range(len(all_words)):\n",
        "    csvwriter.writerow([all_words[i], all_contexts[i], elmo_all[i]])"
      ],
      "metadata": {
        "id": "UNHN8HgdO6sb"
      },
      "execution_count": 175,
      "outputs": []
    },
    {
      "cell_type": "code",
      "source": [
        "files.download('elmo_res.csv')"
      ],
      "metadata": {
        "colab": {
          "base_uri": "https://localhost:8080/",
          "height": 17
        },
        "id": "cl3S9AnIO6vG",
        "outputId": "ffe6ed09-d662-43c4-95b4-b592e7883df1"
      },
      "execution_count": 176,
      "outputs": [
        {
          "output_type": "display_data",
          "data": {
            "text/plain": [
              "<IPython.core.display.Javascript object>"
            ],
            "application/javascript": [
              "\n",
              "    async function download(id, filename, size) {\n",
              "      if (!google.colab.kernel.accessAllowed) {\n",
              "        return;\n",
              "      }\n",
              "      const div = document.createElement('div');\n",
              "      const label = document.createElement('label');\n",
              "      label.textContent = `Downloading \"${filename}\": `;\n",
              "      div.appendChild(label);\n",
              "      const progress = document.createElement('progress');\n",
              "      progress.max = size;\n",
              "      div.appendChild(progress);\n",
              "      document.body.appendChild(div);\n",
              "\n",
              "      const buffers = [];\n",
              "      let downloaded = 0;\n",
              "\n",
              "      const channel = await google.colab.kernel.comms.open(id);\n",
              "      // Send a message to notify the kernel that we're ready.\n",
              "      channel.send({})\n",
              "\n",
              "      for await (const message of channel.messages) {\n",
              "        // Send a message to notify the kernel that we're ready.\n",
              "        channel.send({})\n",
              "        if (message.buffers) {\n",
              "          for (const buffer of message.buffers) {\n",
              "            buffers.push(buffer);\n",
              "            downloaded += buffer.byteLength;\n",
              "            progress.value = downloaded;\n",
              "          }\n",
              "        }\n",
              "      }\n",
              "      const blob = new Blob(buffers, {type: 'application/binary'});\n",
              "      const a = document.createElement('a');\n",
              "      a.href = window.URL.createObjectURL(blob);\n",
              "      a.download = filename;\n",
              "      div.appendChild(a);\n",
              "      a.click();\n",
              "      div.remove();\n",
              "    }\n",
              "  "
            ]
          },
          "metadata": {}
        },
        {
          "output_type": "display_data",
          "data": {
            "text/plain": [
              "<IPython.core.display.Javascript object>"
            ],
            "application/javascript": [
              "download(\"download_08526e2c-40af-4470-b2b1-003be4de0c60\", \"elmo_res.csv\", 1622587)"
            ]
          },
          "metadata": {}
        }
      ]
    },
    {
      "cell_type": "code",
      "source": [
        "pd_elmo_res = pd.read_csv('elmo_res.csv')"
      ],
      "metadata": {
        "id": "QuH3RVTtO6xl"
      },
      "execution_count": 177,
      "outputs": []
    },
    {
      "cell_type": "code",
      "source": [
        "pd_elmo_res"
      ],
      "metadata": {
        "colab": {
          "base_uri": "https://localhost:8080/",
          "height": 802
        },
        "id": "giMwSrNYO607",
        "outputId": "3487d725-724f-4640-f3df-dabb11f0d7cb"
      },
      "execution_count": 178,
      "outputs": [
        {
          "output_type": "execute_result",
          "data": {
            "text/plain": [
              "         word                                            context  \\\n",
              "0     квартал  Выдачи потребительских кредитов в России в тре...   \n",
              "1     квартал  До этого пик объема потребительского кредитова...   \n",
              "2     квартал  В третьем квартале 2018 года средний чек в дан...   \n",
              "3     квартал  В результате обстрела боевиками жилых квартало...   \n",
              "4     квартал  По его словам, боевики обстреляли кварталы, ра...   \n",
              "...       ...                                                ...   \n",
              "5492   бумага  Житель города Вайткорт, провинция Альберта, пр...   \n",
              "5493   бумага  Поскольку обещание не было выполнено, заявлени...   \n",
              "5494   бумага  В учреждение его не пустили: ему выдали бумаги...   \n",
              "5495   бумага  Однако даже после предоставления необходимых б...   \n",
              "5496   бумага  28 октября сообщалось, что за три недели октяб...   \n",
              "\n",
              "      tag elmo clustering  \n",
              "0                       9  \n",
              "1                      29  \n",
              "2                       1  \n",
              "3                      12  \n",
              "4                       8  \n",
              "...                   ...  \n",
              "5492                   10  \n",
              "5493                   30  \n",
              "5494                    8  \n",
              "5495                    1  \n",
              "5496                   31  \n",
              "\n",
              "[5497 rows x 3 columns]"
            ],
            "text/html": [
              "\n",
              "  <div id=\"df-c2452400-84fe-4916-a335-7350d8d452b9\" class=\"colab-df-container\">\n",
              "    <div>\n",
              "<style scoped>\n",
              "    .dataframe tbody tr th:only-of-type {\n",
              "        vertical-align: middle;\n",
              "    }\n",
              "\n",
              "    .dataframe tbody tr th {\n",
              "        vertical-align: top;\n",
              "    }\n",
              "\n",
              "    .dataframe thead th {\n",
              "        text-align: right;\n",
              "    }\n",
              "</style>\n",
              "<table border=\"1\" class=\"dataframe\">\n",
              "  <thead>\n",
              "    <tr style=\"text-align: right;\">\n",
              "      <th></th>\n",
              "      <th>word</th>\n",
              "      <th>context</th>\n",
              "      <th>tag elmo clustering</th>\n",
              "    </tr>\n",
              "  </thead>\n",
              "  <tbody>\n",
              "    <tr>\n",
              "      <th>0</th>\n",
              "      <td>квартал</td>\n",
              "      <td>Выдачи потребительских кредитов в России в тре...</td>\n",
              "      <td>9</td>\n",
              "    </tr>\n",
              "    <tr>\n",
              "      <th>1</th>\n",
              "      <td>квартал</td>\n",
              "      <td>До этого пик объема потребительского кредитова...</td>\n",
              "      <td>29</td>\n",
              "    </tr>\n",
              "    <tr>\n",
              "      <th>2</th>\n",
              "      <td>квартал</td>\n",
              "      <td>В третьем квартале 2018 года средний чек в дан...</td>\n",
              "      <td>1</td>\n",
              "    </tr>\n",
              "    <tr>\n",
              "      <th>3</th>\n",
              "      <td>квартал</td>\n",
              "      <td>В результате обстрела боевиками жилых квартало...</td>\n",
              "      <td>12</td>\n",
              "    </tr>\n",
              "    <tr>\n",
              "      <th>4</th>\n",
              "      <td>квартал</td>\n",
              "      <td>По его словам, боевики обстреляли кварталы, ра...</td>\n",
              "      <td>8</td>\n",
              "    </tr>\n",
              "    <tr>\n",
              "      <th>...</th>\n",
              "      <td>...</td>\n",
              "      <td>...</td>\n",
              "      <td>...</td>\n",
              "    </tr>\n",
              "    <tr>\n",
              "      <th>5492</th>\n",
              "      <td>бумага</td>\n",
              "      <td>Житель города Вайткорт, провинция Альберта, пр...</td>\n",
              "      <td>10</td>\n",
              "    </tr>\n",
              "    <tr>\n",
              "      <th>5493</th>\n",
              "      <td>бумага</td>\n",
              "      <td>Поскольку обещание не было выполнено, заявлени...</td>\n",
              "      <td>30</td>\n",
              "    </tr>\n",
              "    <tr>\n",
              "      <th>5494</th>\n",
              "      <td>бумага</td>\n",
              "      <td>В учреждение его не пустили: ему выдали бумаги...</td>\n",
              "      <td>8</td>\n",
              "    </tr>\n",
              "    <tr>\n",
              "      <th>5495</th>\n",
              "      <td>бумага</td>\n",
              "      <td>Однако даже после предоставления необходимых б...</td>\n",
              "      <td>1</td>\n",
              "    </tr>\n",
              "    <tr>\n",
              "      <th>5496</th>\n",
              "      <td>бумага</td>\n",
              "      <td>28 октября сообщалось, что за три недели октяб...</td>\n",
              "      <td>31</td>\n",
              "    </tr>\n",
              "  </tbody>\n",
              "</table>\n",
              "<p>5497 rows × 3 columns</p>\n",
              "</div>\n",
              "    <div class=\"colab-df-buttons\">\n",
              "\n",
              "  <div class=\"colab-df-container\">\n",
              "    <button class=\"colab-df-convert\" onclick=\"convertToInteractive('df-c2452400-84fe-4916-a335-7350d8d452b9')\"\n",
              "            title=\"Convert this dataframe to an interactive table.\"\n",
              "            style=\"display:none;\">\n",
              "\n",
              "  <svg xmlns=\"http://www.w3.org/2000/svg\" height=\"24px\" viewBox=\"0 -960 960 960\">\n",
              "    <path d=\"M120-120v-720h720v720H120Zm60-500h600v-160H180v160Zm220 220h160v-160H400v160Zm0 220h160v-160H400v160ZM180-400h160v-160H180v160Zm440 0h160v-160H620v160ZM180-180h160v-160H180v160Zm440 0h160v-160H620v160Z\"/>\n",
              "  </svg>\n",
              "    </button>\n",
              "\n",
              "  <style>\n",
              "    .colab-df-container {\n",
              "      display:flex;\n",
              "      gap: 12px;\n",
              "    }\n",
              "\n",
              "    .colab-df-convert {\n",
              "      background-color: #E8F0FE;\n",
              "      border: none;\n",
              "      border-radius: 50%;\n",
              "      cursor: pointer;\n",
              "      display: none;\n",
              "      fill: #1967D2;\n",
              "      height: 32px;\n",
              "      padding: 0 0 0 0;\n",
              "      width: 32px;\n",
              "    }\n",
              "\n",
              "    .colab-df-convert:hover {\n",
              "      background-color: #E2EBFA;\n",
              "      box-shadow: 0px 1px 2px rgba(60, 64, 67, 0.3), 0px 1px 3px 1px rgba(60, 64, 67, 0.15);\n",
              "      fill: #174EA6;\n",
              "    }\n",
              "\n",
              "    .colab-df-buttons div {\n",
              "      margin-bottom: 4px;\n",
              "    }\n",
              "\n",
              "    [theme=dark] .colab-df-convert {\n",
              "      background-color: #3B4455;\n",
              "      fill: #D2E3FC;\n",
              "    }\n",
              "\n",
              "    [theme=dark] .colab-df-convert:hover {\n",
              "      background-color: #434B5C;\n",
              "      box-shadow: 0px 1px 3px 1px rgba(0, 0, 0, 0.15);\n",
              "      filter: drop-shadow(0px 1px 2px rgba(0, 0, 0, 0.3));\n",
              "      fill: #FFFFFF;\n",
              "    }\n",
              "  </style>\n",
              "\n",
              "    <script>\n",
              "      const buttonEl =\n",
              "        document.querySelector('#df-c2452400-84fe-4916-a335-7350d8d452b9 button.colab-df-convert');\n",
              "      buttonEl.style.display =\n",
              "        google.colab.kernel.accessAllowed ? 'block' : 'none';\n",
              "\n",
              "      async function convertToInteractive(key) {\n",
              "        const element = document.querySelector('#df-c2452400-84fe-4916-a335-7350d8d452b9');\n",
              "        const dataTable =\n",
              "          await google.colab.kernel.invokeFunction('convertToInteractive',\n",
              "                                                    [key], {});\n",
              "        if (!dataTable) return;\n",
              "\n",
              "        const docLinkHtml = 'Like what you see? Visit the ' +\n",
              "          '<a target=\"_blank\" href=https://colab.research.google.com/notebooks/data_table.ipynb>data table notebook</a>'\n",
              "          + ' to learn more about interactive tables.';\n",
              "        element.innerHTML = '';\n",
              "        dataTable['output_type'] = 'display_data';\n",
              "        await google.colab.output.renderOutput(dataTable, element);\n",
              "        const docLink = document.createElement('div');\n",
              "        docLink.innerHTML = docLinkHtml;\n",
              "        element.appendChild(docLink);\n",
              "      }\n",
              "    </script>\n",
              "  </div>\n",
              "\n",
              "\n",
              "<div id=\"df-b3a674af-8f35-4d06-80a3-66d44a4208cd\">\n",
              "  <button class=\"colab-df-quickchart\" onclick=\"quickchart('df-b3a674af-8f35-4d06-80a3-66d44a4208cd')\"\n",
              "            title=\"Suggest charts\"\n",
              "            style=\"display:none;\">\n",
              "\n",
              "<svg xmlns=\"http://www.w3.org/2000/svg\" height=\"24px\"viewBox=\"0 0 24 24\"\n",
              "     width=\"24px\">\n",
              "    <g>\n",
              "        <path d=\"M19 3H5c-1.1 0-2 .9-2 2v14c0 1.1.9 2 2 2h14c1.1 0 2-.9 2-2V5c0-1.1-.9-2-2-2zM9 17H7v-7h2v7zm4 0h-2V7h2v10zm4 0h-2v-4h2v4z\"/>\n",
              "    </g>\n",
              "</svg>\n",
              "  </button>\n",
              "\n",
              "<style>\n",
              "  .colab-df-quickchart {\n",
              "      --bg-color: #E8F0FE;\n",
              "      --fill-color: #1967D2;\n",
              "      --hover-bg-color: #E2EBFA;\n",
              "      --hover-fill-color: #174EA6;\n",
              "      --disabled-fill-color: #AAA;\n",
              "      --disabled-bg-color: #DDD;\n",
              "  }\n",
              "\n",
              "  [theme=dark] .colab-df-quickchart {\n",
              "      --bg-color: #3B4455;\n",
              "      --fill-color: #D2E3FC;\n",
              "      --hover-bg-color: #434B5C;\n",
              "      --hover-fill-color: #FFFFFF;\n",
              "      --disabled-bg-color: #3B4455;\n",
              "      --disabled-fill-color: #666;\n",
              "  }\n",
              "\n",
              "  .colab-df-quickchart {\n",
              "    background-color: var(--bg-color);\n",
              "    border: none;\n",
              "    border-radius: 50%;\n",
              "    cursor: pointer;\n",
              "    display: none;\n",
              "    fill: var(--fill-color);\n",
              "    height: 32px;\n",
              "    padding: 0;\n",
              "    width: 32px;\n",
              "  }\n",
              "\n",
              "  .colab-df-quickchart:hover {\n",
              "    background-color: var(--hover-bg-color);\n",
              "    box-shadow: 0 1px 2px rgba(60, 64, 67, 0.3), 0 1px 3px 1px rgba(60, 64, 67, 0.15);\n",
              "    fill: var(--button-hover-fill-color);\n",
              "  }\n",
              "\n",
              "  .colab-df-quickchart-complete:disabled,\n",
              "  .colab-df-quickchart-complete:disabled:hover {\n",
              "    background-color: var(--disabled-bg-color);\n",
              "    fill: var(--disabled-fill-color);\n",
              "    box-shadow: none;\n",
              "  }\n",
              "\n",
              "  .colab-df-spinner {\n",
              "    border: 2px solid var(--fill-color);\n",
              "    border-color: transparent;\n",
              "    border-bottom-color: var(--fill-color);\n",
              "    animation:\n",
              "      spin 1s steps(1) infinite;\n",
              "  }\n",
              "\n",
              "  @keyframes spin {\n",
              "    0% {\n",
              "      border-color: transparent;\n",
              "      border-bottom-color: var(--fill-color);\n",
              "      border-left-color: var(--fill-color);\n",
              "    }\n",
              "    20% {\n",
              "      border-color: transparent;\n",
              "      border-left-color: var(--fill-color);\n",
              "      border-top-color: var(--fill-color);\n",
              "    }\n",
              "    30% {\n",
              "      border-color: transparent;\n",
              "      border-left-color: var(--fill-color);\n",
              "      border-top-color: var(--fill-color);\n",
              "      border-right-color: var(--fill-color);\n",
              "    }\n",
              "    40% {\n",
              "      border-color: transparent;\n",
              "      border-right-color: var(--fill-color);\n",
              "      border-top-color: var(--fill-color);\n",
              "    }\n",
              "    60% {\n",
              "      border-color: transparent;\n",
              "      border-right-color: var(--fill-color);\n",
              "    }\n",
              "    80% {\n",
              "      border-color: transparent;\n",
              "      border-right-color: var(--fill-color);\n",
              "      border-bottom-color: var(--fill-color);\n",
              "    }\n",
              "    90% {\n",
              "      border-color: transparent;\n",
              "      border-bottom-color: var(--fill-color);\n",
              "    }\n",
              "  }\n",
              "</style>\n",
              "\n",
              "  <script>\n",
              "    async function quickchart(key) {\n",
              "      const quickchartButtonEl =\n",
              "        document.querySelector('#' + key + ' button');\n",
              "      quickchartButtonEl.disabled = true;  // To prevent multiple clicks.\n",
              "      quickchartButtonEl.classList.add('colab-df-spinner');\n",
              "      try {\n",
              "        const charts = await google.colab.kernel.invokeFunction(\n",
              "            'suggestCharts', [key], {});\n",
              "      } catch (error) {\n",
              "        console.error('Error during call to suggestCharts:', error);\n",
              "      }\n",
              "      quickchartButtonEl.classList.remove('colab-df-spinner');\n",
              "      quickchartButtonEl.classList.add('colab-df-quickchart-complete');\n",
              "    }\n",
              "    (() => {\n",
              "      let quickchartButtonEl =\n",
              "        document.querySelector('#df-b3a674af-8f35-4d06-80a3-66d44a4208cd button');\n",
              "      quickchartButtonEl.style.display =\n",
              "        google.colab.kernel.accessAllowed ? 'block' : 'none';\n",
              "    })();\n",
              "  </script>\n",
              "</div>\n",
              "    </div>\n",
              "  </div>\n"
            ]
          },
          "metadata": {},
          "execution_count": 178
        }
      ]
    },
    {
      "cell_type": "code",
      "source": [
        "elmo_all_vocab = list(clust_kvart_voc) + list(clust_rak_voc) + list(clust_comp_voc) + list(clust_ac_voc) + list(clust_bum_voc)"
      ],
      "metadata": {
        "id": "K6ICfi7eL4aR"
      },
      "execution_count": 180,
      "outputs": []
    },
    {
      "cell_type": "code",
      "source": [
        "with open('elmo_res_vocab.csv', 'w', encoding='utf-8') as csvfile:\n",
        "  csvwriter = csv.writer(csvfile)\n",
        "  csvwriter.writerow([\"word\", \"meaning\", \"tag elmo clustering\"])\n",
        "  for i in range(len(all_words_vocab)):\n",
        "    csvwriter.writerow([all_words_vocab[i], all_contexts_vocab[i], elmo_all_vocab[i]])"
      ],
      "metadata": {
        "id": "dYWQe6yDSHUC"
      },
      "execution_count": 182,
      "outputs": []
    },
    {
      "cell_type": "code",
      "source": [
        "files.download('elmo_res_vocab.csv')"
      ],
      "metadata": {
        "colab": {
          "base_uri": "https://localhost:8080/",
          "height": 17
        },
        "id": "UmnRitv8llE4",
        "outputId": "1b81e6a3-6564-43b1-f3b8-8628d5edd7e0"
      },
      "execution_count": 183,
      "outputs": [
        {
          "output_type": "display_data",
          "data": {
            "text/plain": [
              "<IPython.core.display.Javascript object>"
            ],
            "application/javascript": [
              "\n",
              "    async function download(id, filename, size) {\n",
              "      if (!google.colab.kernel.accessAllowed) {\n",
              "        return;\n",
              "      }\n",
              "      const div = document.createElement('div');\n",
              "      const label = document.createElement('label');\n",
              "      label.textContent = `Downloading \"${filename}\": `;\n",
              "      div.appendChild(label);\n",
              "      const progress = document.createElement('progress');\n",
              "      progress.max = size;\n",
              "      div.appendChild(progress);\n",
              "      document.body.appendChild(div);\n",
              "\n",
              "      const buffers = [];\n",
              "      let downloaded = 0;\n",
              "\n",
              "      const channel = await google.colab.kernel.comms.open(id);\n",
              "      // Send a message to notify the kernel that we're ready.\n",
              "      channel.send({})\n",
              "\n",
              "      for await (const message of channel.messages) {\n",
              "        // Send a message to notify the kernel that we're ready.\n",
              "        channel.send({})\n",
              "        if (message.buffers) {\n",
              "          for (const buffer of message.buffers) {\n",
              "            buffers.push(buffer);\n",
              "            downloaded += buffer.byteLength;\n",
              "            progress.value = downloaded;\n",
              "          }\n",
              "        }\n",
              "      }\n",
              "      const blob = new Blob(buffers, {type: 'application/binary'});\n",
              "      const a = document.createElement('a');\n",
              "      a.href = window.URL.createObjectURL(blob);\n",
              "      a.download = filename;\n",
              "      div.appendChild(a);\n",
              "      a.click();\n",
              "      div.remove();\n",
              "    }\n",
              "  "
            ]
          },
          "metadata": {}
        },
        {
          "output_type": "display_data",
          "data": {
            "text/plain": [
              "<IPython.core.display.Javascript object>"
            ],
            "application/javascript": [
              "download(\"download_09c338f3-3d78-49fb-92c3-cdbc36178f07\", \"elmo_res_vocab.csv\", 2281)"
            ]
          },
          "metadata": {}
        }
      ]
    },
    {
      "cell_type": "code",
      "source": [
        "pd.read_csv('elmo_res_vocab.csv')"
      ],
      "metadata": {
        "colab": {
          "base_uri": "https://localhost:8080/",
          "height": 419
        },
        "id": "h2phdZhUltN6",
        "outputId": "58fd730d-b8a8-487f-9f46-8c96d7b566f4"
      },
      "execution_count": 184,
      "outputs": [
        {
          "output_type": "execute_result",
          "data": {
            "text/plain": [
              "        word                                            meaning  \\\n",
              "0    квартал                 Четвертая часть года (три месяца).   \n",
              "1    квартал  Часть города, ограниченная четырьмя пересекающ...   \n",
              "2    квартал  Участок засаженной земли (леса, поля, виноград...   \n",
              "3        рак  Покрытое панцирем пресноводное беспозвоночное ...   \n",
              "4        рак  Злокачественная опухоль наружных или внутренни...   \n",
              "5        рак  Болезнь растений, характеризующаяся местным на...   \n",
              "6   компания  Общество, группа лиц, проводящих вместе время ...   \n",
              "7   компания  Капиталистическое (торговое или промышленное) ...   \n",
              "8      акция  Ценная бумага, удостоверяющая взнос определенн...   \n",
              "9      акция  Действие, предпринимаемое для достижения какой...   \n",
              "10    бумага  Материал для письма, печати, рисования и т. п....   \n",
              "11    бумага  Всякий письменный документ официального характ...   \n",
              "12    бумага                 Всякие листы с рукописным текстом.   \n",
              "\n",
              "    tag elmo clustering  \n",
              "0                     8  \n",
              "1                    22  \n",
              "2                     8  \n",
              "3                     8  \n",
              "4                     8  \n",
              "5                     8  \n",
              "6                     8  \n",
              "7                    24  \n",
              "8                    19  \n",
              "9                    19  \n",
              "10                    8  \n",
              "11                    8  \n",
              "12                    8  "
            ],
            "text/html": [
              "\n",
              "  <div id=\"df-637ec772-0196-40f9-ab80-bbf0288141ac\" class=\"colab-df-container\">\n",
              "    <div>\n",
              "<style scoped>\n",
              "    .dataframe tbody tr th:only-of-type {\n",
              "        vertical-align: middle;\n",
              "    }\n",
              "\n",
              "    .dataframe tbody tr th {\n",
              "        vertical-align: top;\n",
              "    }\n",
              "\n",
              "    .dataframe thead th {\n",
              "        text-align: right;\n",
              "    }\n",
              "</style>\n",
              "<table border=\"1\" class=\"dataframe\">\n",
              "  <thead>\n",
              "    <tr style=\"text-align: right;\">\n",
              "      <th></th>\n",
              "      <th>word</th>\n",
              "      <th>meaning</th>\n",
              "      <th>tag elmo clustering</th>\n",
              "    </tr>\n",
              "  </thead>\n",
              "  <tbody>\n",
              "    <tr>\n",
              "      <th>0</th>\n",
              "      <td>квартал</td>\n",
              "      <td>Четвертая часть года (три месяца).</td>\n",
              "      <td>8</td>\n",
              "    </tr>\n",
              "    <tr>\n",
              "      <th>1</th>\n",
              "      <td>квартал</td>\n",
              "      <td>Часть города, ограниченная четырьмя пересекающ...</td>\n",
              "      <td>22</td>\n",
              "    </tr>\n",
              "    <tr>\n",
              "      <th>2</th>\n",
              "      <td>квартал</td>\n",
              "      <td>Участок засаженной земли (леса, поля, виноград...</td>\n",
              "      <td>8</td>\n",
              "    </tr>\n",
              "    <tr>\n",
              "      <th>3</th>\n",
              "      <td>рак</td>\n",
              "      <td>Покрытое панцирем пресноводное беспозвоночное ...</td>\n",
              "      <td>8</td>\n",
              "    </tr>\n",
              "    <tr>\n",
              "      <th>4</th>\n",
              "      <td>рак</td>\n",
              "      <td>Злокачественная опухоль наружных или внутренни...</td>\n",
              "      <td>8</td>\n",
              "    </tr>\n",
              "    <tr>\n",
              "      <th>5</th>\n",
              "      <td>рак</td>\n",
              "      <td>Болезнь растений, характеризующаяся местным на...</td>\n",
              "      <td>8</td>\n",
              "    </tr>\n",
              "    <tr>\n",
              "      <th>6</th>\n",
              "      <td>компания</td>\n",
              "      <td>Общество, группа лиц, проводящих вместе время ...</td>\n",
              "      <td>8</td>\n",
              "    </tr>\n",
              "    <tr>\n",
              "      <th>7</th>\n",
              "      <td>компания</td>\n",
              "      <td>Капиталистическое (торговое или промышленное) ...</td>\n",
              "      <td>24</td>\n",
              "    </tr>\n",
              "    <tr>\n",
              "      <th>8</th>\n",
              "      <td>акция</td>\n",
              "      <td>Ценная бумага, удостоверяющая взнос определенн...</td>\n",
              "      <td>19</td>\n",
              "    </tr>\n",
              "    <tr>\n",
              "      <th>9</th>\n",
              "      <td>акция</td>\n",
              "      <td>Действие, предпринимаемое для достижения какой...</td>\n",
              "      <td>19</td>\n",
              "    </tr>\n",
              "    <tr>\n",
              "      <th>10</th>\n",
              "      <td>бумага</td>\n",
              "      <td>Материал для письма, печати, рисования и т. п....</td>\n",
              "      <td>8</td>\n",
              "    </tr>\n",
              "    <tr>\n",
              "      <th>11</th>\n",
              "      <td>бумага</td>\n",
              "      <td>Всякий письменный документ официального характ...</td>\n",
              "      <td>8</td>\n",
              "    </tr>\n",
              "    <tr>\n",
              "      <th>12</th>\n",
              "      <td>бумага</td>\n",
              "      <td>Всякие листы с рукописным текстом.</td>\n",
              "      <td>8</td>\n",
              "    </tr>\n",
              "  </tbody>\n",
              "</table>\n",
              "</div>\n",
              "    <div class=\"colab-df-buttons\">\n",
              "\n",
              "  <div class=\"colab-df-container\">\n",
              "    <button class=\"colab-df-convert\" onclick=\"convertToInteractive('df-637ec772-0196-40f9-ab80-bbf0288141ac')\"\n",
              "            title=\"Convert this dataframe to an interactive table.\"\n",
              "            style=\"display:none;\">\n",
              "\n",
              "  <svg xmlns=\"http://www.w3.org/2000/svg\" height=\"24px\" viewBox=\"0 -960 960 960\">\n",
              "    <path d=\"M120-120v-720h720v720H120Zm60-500h600v-160H180v160Zm220 220h160v-160H400v160Zm0 220h160v-160H400v160ZM180-400h160v-160H180v160Zm440 0h160v-160H620v160ZM180-180h160v-160H180v160Zm440 0h160v-160H620v160Z\"/>\n",
              "  </svg>\n",
              "    </button>\n",
              "\n",
              "  <style>\n",
              "    .colab-df-container {\n",
              "      display:flex;\n",
              "      gap: 12px;\n",
              "    }\n",
              "\n",
              "    .colab-df-convert {\n",
              "      background-color: #E8F0FE;\n",
              "      border: none;\n",
              "      border-radius: 50%;\n",
              "      cursor: pointer;\n",
              "      display: none;\n",
              "      fill: #1967D2;\n",
              "      height: 32px;\n",
              "      padding: 0 0 0 0;\n",
              "      width: 32px;\n",
              "    }\n",
              "\n",
              "    .colab-df-convert:hover {\n",
              "      background-color: #E2EBFA;\n",
              "      box-shadow: 0px 1px 2px rgba(60, 64, 67, 0.3), 0px 1px 3px 1px rgba(60, 64, 67, 0.15);\n",
              "      fill: #174EA6;\n",
              "    }\n",
              "\n",
              "    .colab-df-buttons div {\n",
              "      margin-bottom: 4px;\n",
              "    }\n",
              "\n",
              "    [theme=dark] .colab-df-convert {\n",
              "      background-color: #3B4455;\n",
              "      fill: #D2E3FC;\n",
              "    }\n",
              "\n",
              "    [theme=dark] .colab-df-convert:hover {\n",
              "      background-color: #434B5C;\n",
              "      box-shadow: 0px 1px 3px 1px rgba(0, 0, 0, 0.15);\n",
              "      filter: drop-shadow(0px 1px 2px rgba(0, 0, 0, 0.3));\n",
              "      fill: #FFFFFF;\n",
              "    }\n",
              "  </style>\n",
              "\n",
              "    <script>\n",
              "      const buttonEl =\n",
              "        document.querySelector('#df-637ec772-0196-40f9-ab80-bbf0288141ac button.colab-df-convert');\n",
              "      buttonEl.style.display =\n",
              "        google.colab.kernel.accessAllowed ? 'block' : 'none';\n",
              "\n",
              "      async function convertToInteractive(key) {\n",
              "        const element = document.querySelector('#df-637ec772-0196-40f9-ab80-bbf0288141ac');\n",
              "        const dataTable =\n",
              "          await google.colab.kernel.invokeFunction('convertToInteractive',\n",
              "                                                    [key], {});\n",
              "        if (!dataTable) return;\n",
              "\n",
              "        const docLinkHtml = 'Like what you see? Visit the ' +\n",
              "          '<a target=\"_blank\" href=https://colab.research.google.com/notebooks/data_table.ipynb>data table notebook</a>'\n",
              "          + ' to learn more about interactive tables.';\n",
              "        element.innerHTML = '';\n",
              "        dataTable['output_type'] = 'display_data';\n",
              "        await google.colab.output.renderOutput(dataTable, element);\n",
              "        const docLink = document.createElement('div');\n",
              "        docLink.innerHTML = docLinkHtml;\n",
              "        element.appendChild(docLink);\n",
              "      }\n",
              "    </script>\n",
              "  </div>\n",
              "\n",
              "\n",
              "<div id=\"df-906661f0-5e37-4967-aabc-f8cf16e20f78\">\n",
              "  <button class=\"colab-df-quickchart\" onclick=\"quickchart('df-906661f0-5e37-4967-aabc-f8cf16e20f78')\"\n",
              "            title=\"Suggest charts\"\n",
              "            style=\"display:none;\">\n",
              "\n",
              "<svg xmlns=\"http://www.w3.org/2000/svg\" height=\"24px\"viewBox=\"0 0 24 24\"\n",
              "     width=\"24px\">\n",
              "    <g>\n",
              "        <path d=\"M19 3H5c-1.1 0-2 .9-2 2v14c0 1.1.9 2 2 2h14c1.1 0 2-.9 2-2V5c0-1.1-.9-2-2-2zM9 17H7v-7h2v7zm4 0h-2V7h2v10zm4 0h-2v-4h2v4z\"/>\n",
              "    </g>\n",
              "</svg>\n",
              "  </button>\n",
              "\n",
              "<style>\n",
              "  .colab-df-quickchart {\n",
              "      --bg-color: #E8F0FE;\n",
              "      --fill-color: #1967D2;\n",
              "      --hover-bg-color: #E2EBFA;\n",
              "      --hover-fill-color: #174EA6;\n",
              "      --disabled-fill-color: #AAA;\n",
              "      --disabled-bg-color: #DDD;\n",
              "  }\n",
              "\n",
              "  [theme=dark] .colab-df-quickchart {\n",
              "      --bg-color: #3B4455;\n",
              "      --fill-color: #D2E3FC;\n",
              "      --hover-bg-color: #434B5C;\n",
              "      --hover-fill-color: #FFFFFF;\n",
              "      --disabled-bg-color: #3B4455;\n",
              "      --disabled-fill-color: #666;\n",
              "  }\n",
              "\n",
              "  .colab-df-quickchart {\n",
              "    background-color: var(--bg-color);\n",
              "    border: none;\n",
              "    border-radius: 50%;\n",
              "    cursor: pointer;\n",
              "    display: none;\n",
              "    fill: var(--fill-color);\n",
              "    height: 32px;\n",
              "    padding: 0;\n",
              "    width: 32px;\n",
              "  }\n",
              "\n",
              "  .colab-df-quickchart:hover {\n",
              "    background-color: var(--hover-bg-color);\n",
              "    box-shadow: 0 1px 2px rgba(60, 64, 67, 0.3), 0 1px 3px 1px rgba(60, 64, 67, 0.15);\n",
              "    fill: var(--button-hover-fill-color);\n",
              "  }\n",
              "\n",
              "  .colab-df-quickchart-complete:disabled,\n",
              "  .colab-df-quickchart-complete:disabled:hover {\n",
              "    background-color: var(--disabled-bg-color);\n",
              "    fill: var(--disabled-fill-color);\n",
              "    box-shadow: none;\n",
              "  }\n",
              "\n",
              "  .colab-df-spinner {\n",
              "    border: 2px solid var(--fill-color);\n",
              "    border-color: transparent;\n",
              "    border-bottom-color: var(--fill-color);\n",
              "    animation:\n",
              "      spin 1s steps(1) infinite;\n",
              "  }\n",
              "\n",
              "  @keyframes spin {\n",
              "    0% {\n",
              "      border-color: transparent;\n",
              "      border-bottom-color: var(--fill-color);\n",
              "      border-left-color: var(--fill-color);\n",
              "    }\n",
              "    20% {\n",
              "      border-color: transparent;\n",
              "      border-left-color: var(--fill-color);\n",
              "      border-top-color: var(--fill-color);\n",
              "    }\n",
              "    30% {\n",
              "      border-color: transparent;\n",
              "      border-left-color: var(--fill-color);\n",
              "      border-top-color: var(--fill-color);\n",
              "      border-right-color: var(--fill-color);\n",
              "    }\n",
              "    40% {\n",
              "      border-color: transparent;\n",
              "      border-right-color: var(--fill-color);\n",
              "      border-top-color: var(--fill-color);\n",
              "    }\n",
              "    60% {\n",
              "      border-color: transparent;\n",
              "      border-right-color: var(--fill-color);\n",
              "    }\n",
              "    80% {\n",
              "      border-color: transparent;\n",
              "      border-right-color: var(--fill-color);\n",
              "      border-bottom-color: var(--fill-color);\n",
              "    }\n",
              "    90% {\n",
              "      border-color: transparent;\n",
              "      border-bottom-color: var(--fill-color);\n",
              "    }\n",
              "  }\n",
              "</style>\n",
              "\n",
              "  <script>\n",
              "    async function quickchart(key) {\n",
              "      const quickchartButtonEl =\n",
              "        document.querySelector('#' + key + ' button');\n",
              "      quickchartButtonEl.disabled = true;  // To prevent multiple clicks.\n",
              "      quickchartButtonEl.classList.add('colab-df-spinner');\n",
              "      try {\n",
              "        const charts = await google.colab.kernel.invokeFunction(\n",
              "            'suggestCharts', [key], {});\n",
              "      } catch (error) {\n",
              "        console.error('Error during call to suggestCharts:', error);\n",
              "      }\n",
              "      quickchartButtonEl.classList.remove('colab-df-spinner');\n",
              "      quickchartButtonEl.classList.add('colab-df-quickchart-complete');\n",
              "    }\n",
              "    (() => {\n",
              "      let quickchartButtonEl =\n",
              "        document.querySelector('#df-906661f0-5e37-4967-aabc-f8cf16e20f78 button');\n",
              "      quickchartButtonEl.style.display =\n",
              "        google.colab.kernel.accessAllowed ? 'block' : 'none';\n",
              "    })();\n",
              "  </script>\n",
              "</div>\n",
              "    </div>\n",
              "  </div>\n"
            ]
          },
          "metadata": {},
          "execution_count": 184
        }
      ]
    },
    {
      "cell_type": "markdown",
      "source": [
        "Уже здесь видно, что толкования кластеризовались не очень удачно (у некоторых лексем вообще не различаются значения). Далее при разметке я поступаю так: те слова, у которых все толкования попали в один кластер, не рассматриваются, но я беру по десять контекстов для тех слов, где кластеризация удалась, чтобы в сумме было размечено столько де предложений, сколько в AdaGram."
      ],
      "metadata": {
        "id": "tn6xXo8Jsth5"
      }
    },
    {
      "cell_type": "code",
      "source": [
        "dct_meanings_elmo = {\n",
        "    'квартал': [8, 22],\n",
        "    'рак': [],\n",
        "    'компания': [8, 24],\n",
        "    'акция': [],\n",
        "    'бумага': []\n",
        "}"
      ],
      "metadata": {
        "id": "KhxBKl12mFv8"
      },
      "execution_count": 186,
      "outputs": []
    },
    {
      "cell_type": "code",
      "source": [
        "# создание подкорпуса для ручной разметки\n",
        "sub_corp_elmo = []\n",
        "for lexeme in lexemes:\n",
        "  contexts_used = []\n",
        "  for i in range(len(all_words)):\n",
        "    if lexeme == all_words[i]:\n",
        "      if elmo_all[i] in dct_meanings_elmo[lexeme] and contexts_used.count(elmo_all[i]) < 10:\n",
        "        sub_corp_elmo.append([lexeme, all_contexts[i], elmo_all[i]])\n",
        "        contexts_used.append(elmo_all[i])"
      ],
      "metadata": {
        "id": "nWCTZEH1mGP4"
      },
      "execution_count": 187,
      "outputs": []
    },
    {
      "cell_type": "code",
      "source": [
        "# разметка\n",
        "sub_corp_elmo_done = []\n",
        "for context in sub_corp_elmo:\n",
        "  print(context)\n",
        "  inp = input(\"Если значение слова в контексте совпадает со словарным значением, введите 1, иначе - 0.\")\n",
        "  res = context + [inp]\n",
        "  sub_corp_ada_done.append(res)"
      ],
      "metadata": {
        "colab": {
          "base_uri": "https://localhost:8080/"
        },
        "id": "ay3aFTrbmGSg",
        "outputId": "b875ad19-eba7-48e0-92a2-3ea79bf03b60"
      },
      "execution_count": 190,
      "outputs": [
        {
          "name": "stdout",
          "output_type": "stream",
          "text": [
            "['квартал', 'По его словам, боевики обстреляли кварталы, расположенные около линии соприкосновения сирийской армии с бандформированиями.\\n', 8]\n",
            "Если значение слова в контексте совпадает со словарным значением, введите 1, иначе - 0.0\n",
            "['квартал', '«Майкл» разбивал лодки, переворачивал 30-тонные фуры, в городе Мексико Бич он сносил дома целыми кварталами.\\n', 8]\n",
            "Если значение слова в контексте совпадает со словарным значением, введите 1, иначе - 0.0\n",
            "['квартал', 'Компания «Донстрой» завершает работы по благоустройству Шелепихинской набережной рядом с кварталом «Сердце Столицы».\\n', 22]\n",
            "Если значение слова в контексте совпадает со словарным значением, введите 1, иначе - 0.1\n",
            "['квартал', 'Популярности нового рекреационного пространства среди горожан будет способствовать расположение на первой линии квартала «Сердце Столицы» крупного инфраструктурного блока, включающего в себя торговый центр с супермаркетом, фитнес-центр с бассейном, ресторан с видовой террасой, многочисленные кафе и кофейни.\\n', 22]\n",
            "Если значение слова в контексте совпадает со словарным значением, введите 1, иначе - 0.1\n",
            "['квартал', 'Компания представила жителям план реконструкции кварталов, график расселения пятиэтажек, а также рассказала о мерах, которые собирается предпринять для снижения неблагоприятного влияния от строительства.\\n', 8]\n",
            "Если значение слова в контексте совпадает со словарным значением, введите 1, иначе - 0.0\n",
            "['квартал', 'Компания в третий раз за свою пятнадцатилетнюю историю закончила квартал с чистой прибылью.\\n', 8]\n",
            "Если значение слова в контексте совпадает со словарным значением, введите 1, иначе - 0.1\n",
            "['квартал', '— Мы также примем все меры, чтобы реконструкция кварталов района проходила в четком соответствии с графиком и минимальными неудобствами для жителей».\\n', 8]\n",
            "Если значение слова в контексте совпадает со словарным значением, введите 1, иначе - 0.0\n",
            "['квартал', 'Фото опубликовано @zone_15_thug_x2  Фото опубликовано @zone_15_thug_x2 Ролики появились в Instagram-аккаунте zone_15_thug_x2 с уточнением, что запись сделана в одном из кварталов Балтимора.\\n', 8]\n",
            "Если значение слова в контексте совпадает со словарным значением, введите 1, иначе - 0.0\n",
            "['квартал', 'Держитесь подальше от перекрытых кварталов.\\n', 8]\n",
            "Если значение слова в контексте совпадает со словарным значением, введите 1, иначе - 0.0\n",
            "['квартал', 'Он повышается уже три квартала подряд», — отмечают эксперты.\\n', 8]\n",
            "Если значение слова в контексте совпадает со словарным значением, введите 1, иначе - 0.1\n",
            "['квартал', 'Магазин, который ограбила толпа детей, находится в центре Киева, в так называемом правительственном квартале.\\n', 8]\n",
            "Если значение слова в контексте совпадает со словарным значением, введите 1, иначе - 0.0\n",
            "['квартал', 'Из-за Квартала красных фонарей значимость Старого города в последнее время сильно уменьшилась, уверена она.\\n', 8]\n",
            "Если значение слова в контексте совпадает со словарным значением, введите 1, иначе - 0.0\n",
            "['квартал', 'Места с шестого по десятое (в порядке убывания арендной ставки) заняли квартал Гиндза в Токио, Питт-Стрит-Молл в Сиднее, Мендон в Сеуле, Банхофштрассе (Цюрих), Кольмаркт (Вена).\\n', 22]\n",
            "Если значение слова в контексте совпадает со словарным значением, введите 1, иначе - 0.1\n",
            "['квартал', 'Отмечается, что гостиница расположилась в историческом здании Stamford House в модном квартале Capitol Singapore, где также можно посетить торговый центр с дорогими бутиками и легендарный театр Capitol.\\n', 22]\n",
            "Если значение слова в контексте совпадает со словарным значением, введите 1, иначе - 0.1\n",
            "['квартал', 'Застройщик уже ввел в эксплуатацию первый корпус жилого квартала «Волга парк» на улице Академика Колмогорова, еще два дома находятся на завершающей стадии.\\n', 22]\n",
            "Если значение слова в контексте совпадает со словарным значением, введите 1, иначе - 0.1\n",
            "['квартал', '22 ноября Верховный Суд РФ признал законным постановление об утверждении проекта планировки территории 47-го и 48-го кварталов Кунцево и отклонил жалобы тех жителей, которые возражали против сноса.\\n', 22]\n",
            "Если значение слова в контексте совпадает со словарным значением, введите 1, иначе - 0.1\n",
            "['квартал', 'В строительной компании также рассказали о том, что программа субсидируемой ипотеки действует по четырем объектам компании, относящимся к разным сегментам: по комплексу «Соколиный Форт» рядом с парком «Лосиный остров», комплексу «Долина Сетунь», кварталу «Алые Паруса» и кварталу Barrin House в Хамовниках.\\n', 22]\n",
            "Если значение слова в контексте совпадает со словарным значением, введите 1, иначе - 0.1\n",
            "['квартал', 'В строительной компании также рассказали о том, что программа субсидируемой ипотеки действует по четырем объектам компании, относящимся к разным сегментам: по комплексу «Соколиный Форт» рядом с парком «Лосиный остров», комплексу «Долина Сетунь», кварталу «Алые Паруса» и кварталу Barrin House в Хамовниках.\\n', 22]\n",
            "Если значение слова в контексте совпадает со словарным значением, введите 1, иначе - 0.1\n",
            "['квартал', 'Помимо проекта «Символ», площадь зеленых зон в котором занимает около 40 процентов всей территории, работы по озеленению и ландшафтному дизайну территории будут проведены в еще одном «зеленом гиганте» в портфеле «Донстрой» — квартале «Сердце Столицы», доля рекреационных зон в котором достигает 46 процентов.\\n', 22]\n",
            "Если значение слова в контексте совпадает со словарным значением, введите 1, иначе - 0.1\n",
            "['квартал', 'В частности, рядом с существующим кварталом «Даниловская мануфактура» возводится новый 18-этажный бизнес-центр (ввод в эксплуатацию назначен на конец 2020 года).\\n', 22]\n",
            "Если значение слова в контексте совпадает со словарным значением, введите 1, иначе - 0.1\n",
            "['компания', 'В него попали компании совершенно разной величины: и такие гиганты, как Apple, Amazon, Nike, Domino’s, Nintendo, Singapore Airlines, и малоизвестные стартапы.\\n', 24]\n",
            "Если значение слова в контексте совпадает со словарным значением, введите 1, иначе - 0.1\n",
            "['компания', 'Им было предложено назвать компании, которые, на их взгляд, двигают прогресс и определяют развитие своей индустрии.\\n', 24]\n",
            "Если значение слова в контексте совпадает со словарным значением, введите 1, иначе - 0.1\n",
            "['компания', 'После резких скачков цен на бензин правительство в ноябре договорилось с топливными компаниями о заморозке цен на бензин на внутреннем рынке до марта 2019 года.\\n', 8]\n",
            "Если значение слова в контексте совпадает со словарным значением, введите 1, иначе - 0.0\n",
            "['компания', 'Речь идет о компаниях, которые ранее фигурировали в так называемом списке Белоусова — перечне предприятий, которые, по мнению помощника президента России Андрея Белоусова, недоплачивают в российский бюджет.\\n', 24]\n",
            "Если значение слова в контексте совпадает со словарным значением, введите 1, иначе - 0.1\n",
            "['компания', '«Лента» попала в группу компаний, рост EBITDA которых ожидается на уровне 5-10 процентов, в то время как у подавляющего большинства европейских сетей результаты не превысят 2-5 процентов.\\n', 24]\n",
            "Если значение слова в контексте совпадает со словарным значением, введите 1, иначе - 0.1\n",
            "['компания', 'Самые большие потери понесли частные инвесторы и компании, занимающиеся разработкой оборудования для майнинга, такие как Nvidia Corp. Из-за падения спроса на продукцию производитель потерял с октября половину своей стоимости.\\n', 24]\n",
            "Если значение слова в контексте совпадает со словарным значением, введите 1, иначе - 0.1\n",
            "['компания', 'По словам ученого, с 1990-х годов цифровая революция породила несколько американских IT-компаний, которые сегодня обладают большей финансовой и культурной властью, чем многие страны.\\n', 24]\n",
            "Если значение слова в контексте совпадает со словарным значением, введите 1, иначе - 0.1\n",
            "['компания', 'Военные предложили гранты компаниям, которые возьмутся за эти разработки, сообщает The National Interest.\\n', 24]\n",
            "Если значение слова в контексте совпадает со словарным значением, введите 1, иначе - 0.1\n",
            "['компания', 'Минфин и Российский союз промышленников и предпринимателей (РСПП) на этой неделе провели совещания по вопросу отбора общественно важных инвестпроектов и условий, на которых к ним подключится крупный бизнес, в том числе компании из списка Белоусова, сообщает РБК со ссылкой на участников совещаний.\\n', 24]\n",
            "Если значение слова в контексте совпадает со словарным значением, введите 1, иначе - 0.1\n",
            "['компания', 'Ранее американский журнал The National Interest сообщал, что командование специальных операций США предложило гранты компаниям, которые способны раскрыть и улучшить технологию модернизированного пулемета Калашникова и крупнокалиберного пулемета НСВ «Утес», а также произвести их копии.\\n', 24]\n",
            "Если значение слова в контексте совпадает со словарным значением, введите 1, иначе - 0.1\n",
            "['компания', 'Кроме того, потерявшая ребенка женщина обнаружила на своей электронной почте письмо от компании, которая занимается кредитным мониторингом: Брокелл предлагали зарегистрировать ее ребенка в системе.\\n', 24]\n",
            "Если значение слова в контексте совпадает со словарным значением, введите 1, иначе - 0.1\n",
            "['компания', 'Опт стал стоить выше розницы, потому что после резкого скачка цен на топливо правительству удалось договориться с крупнейшими нефтяными компаниями о заморозке розничных цен на бензин и дизель с начала июня.\\n', 8]\n",
            "Если значение слова в контексте совпадает со словарным значением, введите 1, иначе - 0.0\n",
            "['компания', 'В дальнейшем правительство договорилось с нефтяными компаниями о временной заморозке цен, а также отменило запланированное повышение акцизов.\\n', 8]\n",
            "Если значение слова в контексте совпадает со словарным значением, введите 1, иначе - 0.0\n",
            "['компания', 'После резких скачков цен на бензин правительство в ноябре договорилось с топливными компаниями о заморозке цен на бензин на внутреннем рынке до марта 2019 года.\\n', 8]\n",
            "Если значение слова в контексте совпадает со словарным значением, введите 1, иначе - 0.0\n",
            "['компания', 'После резких скачков цен на бензин правительство весной договорилось с топливными компаниями о временной заморозке цен на внутреннем рынке.\\n', 8]\n",
            "Если значение слова в контексте совпадает со словарным значением, введите 1, иначе - 0.0\n",
            "['компания', 'После того, как инициативу раскритиковали экономисты и правительство, власти договорились с указанными компаниями о добровольном финансировании федеральных проектов, в основном в области инфраструктуры.\\n', 8]\n",
            "Если значение слова в контексте совпадает со словарным значением, введите 1, иначе - 0.0\n",
            "['компания', 'После резких скачков цен на бензин правительство в ноябре пришло к соглашению с топливными компаниями о заморозке цен на бензин на внутреннем рынке до марта 2019 года.\\n', 8]\n",
            "Если значение слова в контексте совпадает со словарным значением, введите 1, иначе - 0.0\n",
            "['компания', 'Премьер-министр России Дмитрий Медведев подписал постановление правительства, в котором утверждено соглашение властей с нефтяными компаниями о стабилизации ситуации на рынке топлива, сообщает ТАСС.\\n', 8]\n",
            "Если значение слова в контексте совпадает со словарным значением, введите 1, иначе - 0.0\n",
            "['компания', 'Власти договорились с нефтяными компаниями о фиксированных ценах на бензин, которые будут действовать вплоть до марта 2019 года, пишет принадлежащая семье Демьяна Кудрявцева газета «Ведомости».\\n', 8]\n",
            "Если значение слова в контексте совпадает со словарным значением, введите 1, иначе - 0.0\n",
            "['компания', 'Оптовые цены на бензин в ходе торгов 6 ноября выросли в среднем на 1,4 процента\\xa0— вопреки соглашению между правительством и крупнейшими нефтяными компаниями о заморозке цен, следует из данных Санкт-Петербургской международной товарно-сырьевой биржи (СПбМТСБ).\\n', 8]\n",
            "Если значение слова в контексте совпадает со словарным значением, введите 1, иначе - 0.0\n"
          ]
        }
      ]
    },
    {
      "cell_type": "code",
      "source": [
        "elmo_results = []\n",
        "for i in sub_corp_elmo_done:\n",
        "  elmo_results.append(i[-1])"
      ],
      "metadata": {
        "id": "8k8LzUq7mGVS"
      },
      "execution_count": 194,
      "outputs": []
    },
    {
      "cell_type": "code",
      "source": [
        "elmo_accuracy = elmo_results.count('1') / len(elmo_results)"
      ],
      "metadata": {
        "id": "vCk2iZmUmGZo"
      },
      "execution_count": 198,
      "outputs": []
    },
    {
      "cell_type": "markdown",
      "source": [
        "На этом месте у меня разорвалось подключение к среде, поэтому последнее accuracy посчитала вручную (строчка кода выше посчитает автоматически).\n",
        "\n",
        "elmo_accuracy = 22 / 40 = 0.55"
      ],
      "metadata": {
        "id": "05fgCan2xDSt"
      }
    },
    {
      "cell_type": "markdown",
      "source": [
        "## Сравнение результатов AdaGram и ELMo"
      ],
      "metadata": {
        "id": "vhyok-BWyEUM"
      }
    },
    {
      "cell_type": "markdown",
      "source": [
        "**Точность AdaGram значительно выше, чем точность ELMo (0.8 VS. 0.55).**\n",
        "\n",
        "Наблюдения:\n",
        "- Заметно, что при использовании AdaGram контекстам приписывалось меньшее число значений, чем при использовании векторов ELMo и последующей кластеризации. При ELMo кластеров намного больше, чем словарь выделяет значений у слова; мне кажется, именно из-за такого слишком сильного дробления значений точность сопоставления тэга словарных толкований и контекстов упала.\n",
        "- Само распределение тэгов при кластеризации векторов ELMo довольно странно: например, один тэг приписывается и значению \"четвертая часть года\" (слова \"квартал\"), и значению \"участок засаженной земли\".\n",
        "- AdaGram, наоборот меньше дробил значения словарных толкований: обычно выделялось одно сильно отстоящее значение, а двум \"похожим\" друг на друга приписывался один тэг (например, у лексемы \"рак\" в словарной статье было три толкования: \"беспозвоночное животное\", \"злокачественная опухоль\" и \"болезнь растений\", AdaGram отличил первое толкование от второго и третьего, но второе и третье объединил). Иными словами, AdaGram отлично справился с разрешением омонимии, но не с многозначностью, однако в результате подсчета точности у AdaGram лучше показатель, так как у него было меньше шансов запутаться в группах значений, поскольку число этих значений не было большим."
      ],
      "metadata": {
        "id": "_PbiH7u0zV4P"
      }
    }
  ]
}